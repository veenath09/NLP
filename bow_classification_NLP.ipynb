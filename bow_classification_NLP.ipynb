{
  "cells": [
    {
      "cell_type": "markdown",
      "metadata": {
        "id": "view-in-github",
        "colab_type": "text"
      },
      "source": [
        "<a href=\"https://colab.research.google.com/github/veenath09/NLP/blob/main/bow_classification_NLP.ipynb\" target=\"_parent\"><img src=\"https://colab.research.google.com/assets/colab-badge.svg\" alt=\"Open In Colab\"/></a>"
      ]
    },
    {
      "cell_type": "markdown",
      "source": [],
      "metadata": {
        "id": "wCGx6F-dFW1N"
      }
    },
    {
      "cell_type": "code",
      "source": [
        "!pip install -U spacy"
      ],
      "metadata": {
        "colab": {
          "base_uri": "https://localhost:8080/"
        },
        "id": "e-L9Yr4ZfDvg",
        "outputId": "9953b5dc-5b39-45d1-badd-d85627bbece0"
      },
      "execution_count": null,
      "outputs": [
        {
          "output_type": "stream",
          "name": "stdout",
          "text": [
            "Requirement already satisfied: spacy in /usr/local/lib/python3.10/dist-packages (3.7.4)\n",
            "Requirement already satisfied: spacy-legacy<3.1.0,>=3.0.11 in /usr/local/lib/python3.10/dist-packages (from spacy) (3.0.12)\n",
            "Requirement already satisfied: spacy-loggers<2.0.0,>=1.0.0 in /usr/local/lib/python3.10/dist-packages (from spacy) (1.0.5)\n",
            "Requirement already satisfied: murmurhash<1.1.0,>=0.28.0 in /usr/local/lib/python3.10/dist-packages (from spacy) (1.0.10)\n",
            "Requirement already satisfied: cymem<2.1.0,>=2.0.2 in /usr/local/lib/python3.10/dist-packages (from spacy) (2.0.8)\n",
            "Requirement already satisfied: preshed<3.1.0,>=3.0.2 in /usr/local/lib/python3.10/dist-packages (from spacy) (3.0.9)\n",
            "Requirement already satisfied: thinc<8.3.0,>=8.2.2 in /usr/local/lib/python3.10/dist-packages (from spacy) (8.2.3)\n",
            "Requirement already satisfied: wasabi<1.2.0,>=0.9.1 in /usr/local/lib/python3.10/dist-packages (from spacy) (1.1.2)\n",
            "Requirement already satisfied: srsly<3.0.0,>=2.4.3 in /usr/local/lib/python3.10/dist-packages (from spacy) (2.4.8)\n",
            "Requirement already satisfied: catalogue<2.1.0,>=2.0.6 in /usr/local/lib/python3.10/dist-packages (from spacy) (2.0.10)\n",
            "Requirement already satisfied: weasel<0.4.0,>=0.1.0 in /usr/local/lib/python3.10/dist-packages (from spacy) (0.3.4)\n",
            "Requirement already satisfied: typer<0.10.0,>=0.3.0 in /usr/local/lib/python3.10/dist-packages (from spacy) (0.9.4)\n",
            "Requirement already satisfied: smart-open<7.0.0,>=5.2.1 in /usr/local/lib/python3.10/dist-packages (from spacy) (6.4.0)\n",
            "Requirement already satisfied: tqdm<5.0.0,>=4.38.0 in /usr/local/lib/python3.10/dist-packages (from spacy) (4.66.4)\n",
            "Requirement already satisfied: requests<3.0.0,>=2.13.0 in /usr/local/lib/python3.10/dist-packages (from spacy) (2.31.0)\n",
            "Requirement already satisfied: pydantic!=1.8,!=1.8.1,<3.0.0,>=1.7.4 in /usr/local/lib/python3.10/dist-packages (from spacy) (2.7.1)\n",
            "Requirement already satisfied: jinja2 in /usr/local/lib/python3.10/dist-packages (from spacy) (3.1.4)\n",
            "Requirement already satisfied: setuptools in /usr/local/lib/python3.10/dist-packages (from spacy) (67.7.2)\n",
            "Requirement already satisfied: packaging>=20.0 in /usr/local/lib/python3.10/dist-packages (from spacy) (24.0)\n",
            "Requirement already satisfied: langcodes<4.0.0,>=3.2.0 in /usr/local/lib/python3.10/dist-packages (from spacy) (3.4.0)\n",
            "Requirement already satisfied: numpy>=1.19.0 in /usr/local/lib/python3.10/dist-packages (from spacy) (1.25.2)\n",
            "Requirement already satisfied: language-data>=1.2 in /usr/local/lib/python3.10/dist-packages (from langcodes<4.0.0,>=3.2.0->spacy) (1.2.0)\n",
            "Requirement already satisfied: annotated-types>=0.4.0 in /usr/local/lib/python3.10/dist-packages (from pydantic!=1.8,!=1.8.1,<3.0.0,>=1.7.4->spacy) (0.6.0)\n",
            "Requirement already satisfied: pydantic-core==2.18.2 in /usr/local/lib/python3.10/dist-packages (from pydantic!=1.8,!=1.8.1,<3.0.0,>=1.7.4->spacy) (2.18.2)\n",
            "Requirement already satisfied: typing-extensions>=4.6.1 in /usr/local/lib/python3.10/dist-packages (from pydantic!=1.8,!=1.8.1,<3.0.0,>=1.7.4->spacy) (4.11.0)\n",
            "Requirement already satisfied: charset-normalizer<4,>=2 in /usr/local/lib/python3.10/dist-packages (from requests<3.0.0,>=2.13.0->spacy) (3.3.2)\n",
            "Requirement already satisfied: idna<4,>=2.5 in /usr/local/lib/python3.10/dist-packages (from requests<3.0.0,>=2.13.0->spacy) (3.7)\n",
            "Requirement already satisfied: urllib3<3,>=1.21.1 in /usr/local/lib/python3.10/dist-packages (from requests<3.0.0,>=2.13.0->spacy) (2.0.7)\n",
            "Requirement already satisfied: certifi>=2017.4.17 in /usr/local/lib/python3.10/dist-packages (from requests<3.0.0,>=2.13.0->spacy) (2024.2.2)\n",
            "Requirement already satisfied: blis<0.8.0,>=0.7.8 in /usr/local/lib/python3.10/dist-packages (from thinc<8.3.0,>=8.2.2->spacy) (0.7.11)\n",
            "Requirement already satisfied: confection<1.0.0,>=0.0.1 in /usr/local/lib/python3.10/dist-packages (from thinc<8.3.0,>=8.2.2->spacy) (0.1.4)\n",
            "Requirement already satisfied: click<9.0.0,>=7.1.1 in /usr/local/lib/python3.10/dist-packages (from typer<0.10.0,>=0.3.0->spacy) (8.1.7)\n",
            "Requirement already satisfied: cloudpathlib<0.17.0,>=0.7.0 in /usr/local/lib/python3.10/dist-packages (from weasel<0.4.0,>=0.1.0->spacy) (0.16.0)\n",
            "Requirement already satisfied: MarkupSafe>=2.0 in /usr/local/lib/python3.10/dist-packages (from jinja2->spacy) (2.1.5)\n",
            "Requirement already satisfied: marisa-trie>=0.7.7 in /usr/local/lib/python3.10/dist-packages (from language-data>=1.2->langcodes<4.0.0,>=3.2.0->spacy) (1.1.1)\n"
          ]
        }
      ]
    },
    {
      "cell_type": "code",
      "source": [
        "!pip install nltk"
      ],
      "metadata": {
        "colab": {
          "base_uri": "https://localhost:8080/"
        },
        "id": "xt9kz8Y5fIw5",
        "outputId": "0a1d0933-788d-4066-8e4d-60e04f6e98fc"
      },
      "execution_count": null,
      "outputs": [
        {
          "output_type": "stream",
          "name": "stdout",
          "text": [
            "Requirement already satisfied: nltk in /usr/local/lib/python3.10/dist-packages (3.8.1)\n",
            "Requirement already satisfied: click in /usr/local/lib/python3.10/dist-packages (from nltk) (8.1.7)\n",
            "Requirement already satisfied: joblib in /usr/local/lib/python3.10/dist-packages (from nltk) (1.4.2)\n",
            "Requirement already satisfied: regex>=2021.8.3 in /usr/local/lib/python3.10/dist-packages (from nltk) (2023.12.25)\n",
            "Requirement already satisfied: tqdm in /usr/local/lib/python3.10/dist-packages (from nltk) (4.66.4)\n"
          ]
        }
      ]
    },
    {
      "cell_type": "code",
      "source": [
        "import nltk\n",
        "import spacy\n",
        "import numpy as np\n",
        "import pandas as pd\n",
        "from sklearn.ensemble import RandomForestClassifier\n",
        "from sklearn.metrics import confusion_matrix, ConfusionMatrixDisplay, accuracy_score, f1_score\n",
        "\n",
        "\n",
        "nltk.download('punkt')\n",
        "nltk.download('wordnet')\n",
        "nltk.download('stopwords')"
      ],
      "metadata": {
        "colab": {
          "base_uri": "https://localhost:8080/"
        },
        "id": "XbHVgYf_fLEt",
        "outputId": "90ae5969-a683-45d9-b055-a41579188895"
      },
      "execution_count": null,
      "outputs": [
        {
          "output_type": "stream",
          "name": "stderr",
          "text": [
            "[nltk_data] Downloading package punkt to /root/nltk_data...\n",
            "[nltk_data]   Package punkt is already up-to-date!\n",
            "[nltk_data] Downloading package wordnet to /root/nltk_data...\n",
            "[nltk_data]   Package wordnet is already up-to-date!\n",
            "[nltk_data] Downloading package stopwords to /root/nltk_data...\n",
            "[nltk_data]   Package stopwords is already up-to-date!\n"
          ]
        },
        {
          "output_type": "execute_result",
          "data": {
            "text/plain": [
              "True"
            ]
          },
          "metadata": {},
          "execution_count": 35
        }
      ]
    },
    {
      "cell_type": "code",
      "source": [
        "lemmatizer = nltk.stem.WordNetLemmatizer()\n",
        "stopwords = nltk.corpus.stopwords.words('english')"
      ],
      "metadata": {
        "id": "pHKzsarafyKl"
      },
      "execution_count": null,
      "outputs": []
    },
    {
      "cell_type": "code",
      "source": [
        "negative_corpus = [\n",
        "    \"The croissants were stale and tasted like cardboard.\",\n",
        "    \"The cupcakes were dry and flavorless.\",\n",
        "    \"I found a hair in my cinnamon roll, disgusting!\",\n",
        "    \"The bread was rock hard, couldn't even bite into it.\",\n",
        "    \"The cookies were burnt to a crisp, terrible!\",\n",
        "    \"The muffins were so dry, felt like I was eating sand.\",\n",
        "    \"The pastries were overpriced and underwhelming.\",\n",
        "    \"The bagels were doughy and undercooked.\",\n",
        "    \"I got food poisoning from their eclairs, never going back!\",\n",
        "    \"The donuts were stale and tasted like old oil.\",\n",
        "    \"The pie crust was soggy and the filling tasted artificial.\",\n",
        "    \"The scones were hard as a rock, couldn't even cut through them.\",\n",
        "    \"The macarons were stale and had no flavor.\",\n",
        "    \"The brownies were undercooked in the middle and burnt on the edges.\",\n",
        "    \"The cake was dry and crumbly, a total disappointment.\",\n",
        "    \"The breadsticks were stale and chewy, couldn't even finish one.\",\n",
        "    \"The pretzels were too salty, it was like eating salt with a side of dough.\",\n",
        "    \"The muffins were so dry, I needed a gallon of water just to swallow.\",\n",
        "    \"The turnovers were filled with mushy, unripe fruit.\",\n",
        "    \"The cheesecake was sour and tasted spoiled.\",\n",
        "    \"The danishes were dry and lacked any real flavor.\",\n",
        "    \"The buns were hard and tasted like they were days old.\",\n",
        "    \"The focaccia was burnt and tasted like charcoal.\",\n",
        "    \"The baguettes were undercooked and doughy in the middle.\",\n",
        "    \"The pastry cream in the eclairs was curdled and disgusting.\",\n",
        "    \"The bread rolls were dense and flavorless.\",\n",
        "    \"The cookies were so hard, I thought I was going to break a tooth.\",\n",
        "    \"The croissants were tiny and overpriced.\",\n",
        "    \"The brownies were so dry, I couldn't even finish one bite.\",\n",
        "    \"The pie crust was so tough, I couldn't cut through it with a knife.\",\n",
        "    \"The bagels were stale and tasted like cardboard.\",\n",
        "    \"The donuts were greasy and left a bad aftertaste.\",\n",
        "    \"The cake was dry and lacked any real flavor.\",\n",
        "    \"The pastries were dry and stale, tasted like they were sitting out for days.\",\n",
        "    \"The breadsticks were burnt and inedible.\",\n",
        "    \"The muffins were dry and crumbly, not worth the money.\",\n",
        "    \"The cookies were so burnt, they were practically charcoal.\",\n",
        "    \"The scones were hard as a rock, couldn't even bite into them.\",\n",
        "    \"The croissants were soggy and undercooked.\",\n",
        "    \"The cupcakes were dry and tasteless, waste of money.\",\n",
        "    \"The pie was too sweet and the crust was burnt.\",\n",
        "    \"The baguettes were stale and tasted like old flour.\",\n",
        "    \"The donuts were greasy and left a film in my mouth.\",\n",
        "    \"The bread was so dry, it sucked all the moisture out of my mouth.\",\n",
        "    \"The muffins were bland and dry, couldn't even finish one.\",\n",
        "    \"The pastries were stale and had a weird aftertaste.\",\n",
        "    \"The brownies were so hard, I could barely cut through them.\",\n",
        "    \"The cake was stale and tasted like it was made weeks ago.\",\n",
        "    \"The cookies were overbaked and tasted burnt.\",\n",
        "    \"The croissants were stale and lacked any real buttery flavor.\",\n",
        "    \"The cupcakes were dry and crumbly, not enjoyable at all.\",\n",
        "    \"The cinnamon rolls were dry and the icing was too sweet.\",\n",
        "    \"The bagels were dense and tasteless.\",\n",
        "    \"The donuts were stale and tasted like old oil.\",\n",
        "    \"The pie crust was soggy and undercooked.\",\n",
        "    \"The breadsticks were stale and tasted like cardboard.\",\n",
        "    \"The muffins were dry and lacked any real flavor.\",\n",
        "    \"The pastries were dry and tasted like they were made with old ingredients.\",\n",
        "    \"The brownies were undercooked and gooey in the middle.\",\n",
        "    \"The cake was dry and tasted like it was made with cheap ingredients.\",\n",
        "    \"The cookies were so hard, I couldn't even dunk them in milk.\",\n",
        "    \"The croissants were small and overpriced.\",\n",
        "    \"The cupcakes were dry and crumbly, not worth the money.\",\n",
        "    \"The cinnamon rolls were dry and lacked any real cinnamon flavor.\",\n",
        "    \"The baguettes were stale and tasted like they were made with old yeast.\",\n",
        "    \"The donuts were greasy and left a bad aftertaste.\",\n",
        "    \"The bread was dry and tasted like it was left out for days.\",\n",
        "    \"The muffins were bland and undercooked, couldn't even finish one.\",\n",
        "    \"The pastries were stale and had a strange smell.\",\n",
        "    \"The brownies were so dry, I needed a glass of milk just to swallow.\",\n",
        "    \"The cake was dry and tasted like it was made with expired ingredients.\",\n",
        "    \"The cookies were burnt and had a bitter taste.\",\n",
        "    \"The croissants were stale and had a weird texture.\",\n",
        "    \"The cupcakes were dry and tasteless, not worth the calories.\",\n",
        "    \"The cinnamon rolls were dry and lacked any real flavor.\",\n",
        "    \"The bagels were dense and chewy, like eating a rubber tire.\",\n",
        "    \"The donuts were stale and tasted like old oil.\",\n",
        "    \"The bread was dry and tasted like cardboard.\",\n",
        "    \"The muffins were dry and crumbly, couldn't even finish one.\",\n",
        "    \"The pastries were stale and had a strange aftertaste.\",\n",
        "    \"The brownies were undercooked and gooey, not enjoyable at all.\",\n",
        "    \"The cake was dry and tasted like it was made with low-quality ingredients.\",\n",
        "    \"The cookies were so hard, I almost chipped a tooth.\",\n",
        "    \"The croissants were small and overpriced, not worth it.\",\n",
        "    \"The cupcakes were dry and lacked any real flavor.\",\n",
        "    \"The cinnamon rolls were dry and the icing was too sugary.\",\n",
        "    \"The baguettes were stale and tasted like they were made with old flour.\",\n",
        "    \"The donuts were greasy and left a film in my mouth.\",\n",
        "    \"The bread was dry and crumbled as soon as I touched it.\",\n",
        "    \"The muffins were bland and undercooked, felt like they were raw inside.\",\n",
        "    \"The pastries were stale and had a strange texture.\",\n",
        "    \"The brownies were so dry, I couldn't even swallow them.\",\n",
        "    \"The cake was dry and tasted like it was made with expired ingredients.\",\n",
        "    \"The cookies were burnt and had a bitter aftertaste.\"\n",
        "]\n",
        "\n",
        "positive_corpus = [\n",
        "    \"The croissants were flaky and buttery, absolutely delicious!\",\n",
        "    \"The cupcakes were moist and bursting with flavor.\",\n",
        "    \"I loved the cinnamon rolls, they were gooey and had just the right amount of icing.\",\n",
        "    \"The bread was fresh out of the oven and had a perfect crust.\",\n",
        "    \"The cookies were chewy and filled with chocolate chips, divine!\",\n",
        "    \"The muffins were moist and had a wonderful aroma.\",\n",
        "    \"The pastries were a delightful treat, so light and fluffy.\",\n",
        "    \"The bagels were perfectly toasted and topped with cream cheese.\",\n",
        "    \"The eclairs were heavenly, filled with creamy custard.\",\n",
        "    \"The donuts were light and fluffy, with a delicious glaze.\",\n",
        "    \"The pie was absolutely scrumptious, with a flaky crust and flavorful filling.\",\n",
        "    \"The scones were tender and crumbly, just like they should be.\",\n",
        "    \"The macarons were delightful, with a perfect balance of flavors.\",\n",
        "    \"The brownies were rich and fudgy, a chocolate lover's dream.\",\n",
        "    \"The cake was moist and decadent, with creamy frosting.\",\n",
        "    \"The breadsticks were warm and seasoned to perfection.\",\n",
        "    \"The pretzels were soft and salty, just the way I like them.\",\n",
        "    \"The muffins were so moist, they practically melted in my mouth.\",\n",
        "    \"The turnovers were filled with delicious, ripe fruit.\",\n",
        "    \"The cheesecake was creamy and luxurious, a true indulgence.\",\n",
        "    \"The danishes were flaky and filled with sweet, fruity goodness.\",\n",
        "    \"The buns were soft and fluffy, perfect for sandwiches.\",\n",
        "    \"The focaccia was fresh and flavorful, with a crispy crust.\",\n",
        "    \"The baguettes were crusty on the outside and soft on the inside, perfection!\",\n",
        "    \"The eclairs were filled with luscious, creamy filling.\",\n",
        "    \"The bread rolls were warm and fluffy, straight from the oven.\",\n",
        "    \"The cookies were soft and chewy, with just the right amount of sweetness.\",\n",
        "    \"The croissants were buttery and flaky, a true delight.\",\n",
        "    \"The brownies were moist and chocolatey, absolutely delicious.\",\n",
        "    \"The pie crust was perfectly golden and flaky.\",\n",
        "    \"The bagels were chewy and flavorful, perfect with cream cheese.\",\n",
        "    \"The donuts were light and airy, with a delicious glaze.\",\n",
        "    \"The cake was moist and flavorful, with layers of creamy frosting.\",\n",
        "    \"The pastries were fresh and flavorful, a real treat.\",\n",
        "    \"The breadsticks were warm and crispy, perfect for dipping.\",\n",
        "    \"The muffins were moist and bursting with flavor.\",\n",
        "    \"The cookies were soft and chewy, with chunks of chocolate in every bite.\",\n",
        "    \"The scones were tender and buttery, with a hint of sweetness.\",\n",
        "    \"The croissants were flaky and buttery, just like in Paris.\",\n",
        "    \"The cupcakes were moist and topped with creamy frosting.\",\n",
        "    \"The cinnamon rolls were warm and gooey, with a generous amount of icing.\",\n",
        "    \"The baguettes were crusty on the outside and soft on the inside.\",\n",
        "    \"The donuts were light and fluffy, with a perfect glaze.\",\n",
        "    \"The bread was fresh and crusty, perfect for sandwiches.\",\n",
        "    \"The muffins were moist and flavorful, with bursts of fruit in every bite.\",\n",
        "    \"The pastries were light and flaky, with delicious fillings.\",\n",
        "    \"The brownies were rich and fudgy, with chunks of chocolate throughout.\",\n",
        "    \"The cake was moist and decadent, with layers of creamy frosting.\",\n",
        "    \"The cookies were soft and chewy, with just the right amount of sweetness.\",\n",
        "    \"The croissants were buttery and flaky, a true indulgence.\",\n",
        "    \"The cupcakes were moist and topped with fluffy frosting.\",\n",
        "    \"The cinnamon rolls were warm and gooey, with a perfect balance of cinnamon and sugar.\",\n",
        "    \"The bagels were chewy and flavorful, perfect for breakfast.\",\n",
        "    \"The donuts were light and airy, with a delicious glaze.\",\n",
        "    \"The bread was crusty on the outside and soft on the inside, just how I like it.\",\n",
        "    \"The muffins were moist and packed with flavor, a real treat.\",\n",
        "    \"The pastries were light and flaky, with delicious fillings.\",\n",
        "    \"The brownies were rich and chocolatey, with a gooey center.\",\n",
        "    \"The cake was moist and delicious, with layers of creamy frosting.\",\n",
        "    \"The cookies were soft and chewy, with chunks of chocolate in every bite.\",\n",
        "    \"The croissants were flaky and buttery, just like I remembered from France.\",\n",
        "    \"The cupcakes were moist and topped with a generous amount of frosting.\",\n",
        "    \"The cinnamon rolls were warm and gooey, with just the right amount of icing.\",\n",
        "    \"The baguettes were crusty on the outside and soft on the inside, perfect for sandwiches.\",\n",
        "    \"The donuts were light and fluffy, with a delicious glaze.\",\n",
        "    \"The bread was fresh and crusty, perfect for dipping in olive oil.\",\n",
        "    \"The muffins were moist and flavorful, with bursts of fruit in every bite.\",\n",
        "    \"The pastries were light and flaky, with delicious fillings.\",\n",
        "    \"The brownies were rich and fudgy, with a hint of espresso.\",\n",
        "    \"The cake was moist and decadent, with layers of creamy frosting.\",\n",
        "    \"The cookies were soft and chewy, with just the right amount of chocolate chips.\",\n",
        "    \"The croissants were buttery and flaky, a true delight.\",\n",
        "    \"The cupcakes were moist and topped with a creamy frosting.\",\n",
        "    \"The cinnamon rolls were warm and gooey, with a perfect blend of spices.\",\n",
        "    \"The bagels were chewy and flavorful, perfect with cream cheese.\",\n",
        "    \"The donuts were light and airy, with a delicious glaze.\",\n",
        "    \"The bread was crusty on the outside and soft on the inside, just how I like it.\",\n",
        "    \"The muffins were moist and bursting with flavor, a real treat.\",\n",
        "    \"The pastries were light and flaky, with delicious fillings.\",\n",
        "    \"The brownies were rich and fudgy, with a hint of caramel.\",\n",
        "    \"The cake was moist and delicious, with layers of creamy frosting.\",\n",
        "    \"The cookies were soft and chewy, with just the right amount of sweetness.\"\n",
        "]"
      ],
      "metadata": {
        "id": "x1Em_FCkqG2d"
      },
      "execution_count": null,
      "outputs": []
    },
    {
      "cell_type": "code",
      "source": [
        "def create_df():\n",
        "  info   =  negative_corpus + positive_corpus\n",
        "  labels = [0] * len(negative_corpus) + [1]*len(positive_corpus)\n",
        "\n",
        "  df = pd.DataFrame({ 'label' :labels,\n",
        "                       'data' :info})\n",
        "  return df"
      ],
      "metadata": {
        "id": "j7gZ-1wpzWaL"
      },
      "execution_count": null,
      "outputs": []
    },
    {
      "cell_type": "code",
      "source": [
        "df = create_df()\n",
        "df.tail(25)"
      ],
      "metadata": {
        "colab": {
          "base_uri": "https://localhost:8080/",
          "height": 833
        },
        "id": "R2W46xT20Vgc",
        "outputId": "2135abf7-41e8-44fa-d5b4-1a1479da25de"
      },
      "execution_count": null,
      "outputs": [
        {
          "output_type": "execute_result",
          "data": {
            "text/plain": [
              "     label                                               data\n",
              "151      1  The brownies were rich and chocolatey, with a ...\n",
              "152      1  The cake was moist and delicious, with layers ...\n",
              "153      1  The cookies were soft and chewy, with chunks o...\n",
              "154      1  The croissants were flaky and buttery, just li...\n",
              "155      1  The cupcakes were moist and topped with a gene...\n",
              "156      1  The cinnamon rolls were warm and gooey, with j...\n",
              "157      1  The baguettes were crusty on the outside and s...\n",
              "158      1  The donuts were light and fluffy, with a delic...\n",
              "159      1  The bread was fresh and crusty, perfect for di...\n",
              "160      1  The muffins were moist and flavorful, with bur...\n",
              "161      1  The pastries were light and flaky, with delici...\n",
              "162      1  The brownies were rich and fudgy, with a hint ...\n",
              "163      1  The cake was moist and decadent, with layers o...\n",
              "164      1  The cookies were soft and chewy, with just the...\n",
              "165      1  The croissants were buttery and flaky, a true ...\n",
              "166      1  The cupcakes were moist and topped with a crea...\n",
              "167      1  The cinnamon rolls were warm and gooey, with a...\n",
              "168      1  The bagels were chewy and flavorful, perfect w...\n",
              "169      1  The donuts were light and airy, with a delicio...\n",
              "170      1  The bread was crusty on the outside and soft o...\n",
              "171      1  The muffins were moist and bursting with flavo...\n",
              "172      1  The pastries were light and flaky, with delici...\n",
              "173      1  The brownies were rich and fudgy, with a hint ...\n",
              "174      1  The cake was moist and delicious, with layers ...\n",
              "175      1  The cookies were soft and chewy, with just the..."
            ],
            "text/html": [
              "\n",
              "  <div id=\"df-1611a509-0d94-474c-af06-f3c57a8d2685\" class=\"colab-df-container\">\n",
              "    <div>\n",
              "<style scoped>\n",
              "    .dataframe tbody tr th:only-of-type {\n",
              "        vertical-align: middle;\n",
              "    }\n",
              "\n",
              "    .dataframe tbody tr th {\n",
              "        vertical-align: top;\n",
              "    }\n",
              "\n",
              "    .dataframe thead th {\n",
              "        text-align: right;\n",
              "    }\n",
              "</style>\n",
              "<table border=\"1\" class=\"dataframe\">\n",
              "  <thead>\n",
              "    <tr style=\"text-align: right;\">\n",
              "      <th></th>\n",
              "      <th>label</th>\n",
              "      <th>data</th>\n",
              "    </tr>\n",
              "  </thead>\n",
              "  <tbody>\n",
              "    <tr>\n",
              "      <th>151</th>\n",
              "      <td>1</td>\n",
              "      <td>The brownies were rich and chocolatey, with a ...</td>\n",
              "    </tr>\n",
              "    <tr>\n",
              "      <th>152</th>\n",
              "      <td>1</td>\n",
              "      <td>The cake was moist and delicious, with layers ...</td>\n",
              "    </tr>\n",
              "    <tr>\n",
              "      <th>153</th>\n",
              "      <td>1</td>\n",
              "      <td>The cookies were soft and chewy, with chunks o...</td>\n",
              "    </tr>\n",
              "    <tr>\n",
              "      <th>154</th>\n",
              "      <td>1</td>\n",
              "      <td>The croissants were flaky and buttery, just li...</td>\n",
              "    </tr>\n",
              "    <tr>\n",
              "      <th>155</th>\n",
              "      <td>1</td>\n",
              "      <td>The cupcakes were moist and topped with a gene...</td>\n",
              "    </tr>\n",
              "    <tr>\n",
              "      <th>156</th>\n",
              "      <td>1</td>\n",
              "      <td>The cinnamon rolls were warm and gooey, with j...</td>\n",
              "    </tr>\n",
              "    <tr>\n",
              "      <th>157</th>\n",
              "      <td>1</td>\n",
              "      <td>The baguettes were crusty on the outside and s...</td>\n",
              "    </tr>\n",
              "    <tr>\n",
              "      <th>158</th>\n",
              "      <td>1</td>\n",
              "      <td>The donuts were light and fluffy, with a delic...</td>\n",
              "    </tr>\n",
              "    <tr>\n",
              "      <th>159</th>\n",
              "      <td>1</td>\n",
              "      <td>The bread was fresh and crusty, perfect for di...</td>\n",
              "    </tr>\n",
              "    <tr>\n",
              "      <th>160</th>\n",
              "      <td>1</td>\n",
              "      <td>The muffins were moist and flavorful, with bur...</td>\n",
              "    </tr>\n",
              "    <tr>\n",
              "      <th>161</th>\n",
              "      <td>1</td>\n",
              "      <td>The pastries were light and flaky, with delici...</td>\n",
              "    </tr>\n",
              "    <tr>\n",
              "      <th>162</th>\n",
              "      <td>1</td>\n",
              "      <td>The brownies were rich and fudgy, with a hint ...</td>\n",
              "    </tr>\n",
              "    <tr>\n",
              "      <th>163</th>\n",
              "      <td>1</td>\n",
              "      <td>The cake was moist and decadent, with layers o...</td>\n",
              "    </tr>\n",
              "    <tr>\n",
              "      <th>164</th>\n",
              "      <td>1</td>\n",
              "      <td>The cookies were soft and chewy, with just the...</td>\n",
              "    </tr>\n",
              "    <tr>\n",
              "      <th>165</th>\n",
              "      <td>1</td>\n",
              "      <td>The croissants were buttery and flaky, a true ...</td>\n",
              "    </tr>\n",
              "    <tr>\n",
              "      <th>166</th>\n",
              "      <td>1</td>\n",
              "      <td>The cupcakes were moist and topped with a crea...</td>\n",
              "    </tr>\n",
              "    <tr>\n",
              "      <th>167</th>\n",
              "      <td>1</td>\n",
              "      <td>The cinnamon rolls were warm and gooey, with a...</td>\n",
              "    </tr>\n",
              "    <tr>\n",
              "      <th>168</th>\n",
              "      <td>1</td>\n",
              "      <td>The bagels were chewy and flavorful, perfect w...</td>\n",
              "    </tr>\n",
              "    <tr>\n",
              "      <th>169</th>\n",
              "      <td>1</td>\n",
              "      <td>The donuts were light and airy, with a delicio...</td>\n",
              "    </tr>\n",
              "    <tr>\n",
              "      <th>170</th>\n",
              "      <td>1</td>\n",
              "      <td>The bread was crusty on the outside and soft o...</td>\n",
              "    </tr>\n",
              "    <tr>\n",
              "      <th>171</th>\n",
              "      <td>1</td>\n",
              "      <td>The muffins were moist and bursting with flavo...</td>\n",
              "    </tr>\n",
              "    <tr>\n",
              "      <th>172</th>\n",
              "      <td>1</td>\n",
              "      <td>The pastries were light and flaky, with delici...</td>\n",
              "    </tr>\n",
              "    <tr>\n",
              "      <th>173</th>\n",
              "      <td>1</td>\n",
              "      <td>The brownies were rich and fudgy, with a hint ...</td>\n",
              "    </tr>\n",
              "    <tr>\n",
              "      <th>174</th>\n",
              "      <td>1</td>\n",
              "      <td>The cake was moist and delicious, with layers ...</td>\n",
              "    </tr>\n",
              "    <tr>\n",
              "      <th>175</th>\n",
              "      <td>1</td>\n",
              "      <td>The cookies were soft and chewy, with just the...</td>\n",
              "    </tr>\n",
              "  </tbody>\n",
              "</table>\n",
              "</div>\n",
              "    <div class=\"colab-df-buttons\">\n",
              "\n",
              "  <div class=\"colab-df-container\">\n",
              "    <button class=\"colab-df-convert\" onclick=\"convertToInteractive('df-1611a509-0d94-474c-af06-f3c57a8d2685')\"\n",
              "            title=\"Convert this dataframe to an interactive table.\"\n",
              "            style=\"display:none;\">\n",
              "\n",
              "  <svg xmlns=\"http://www.w3.org/2000/svg\" height=\"24px\" viewBox=\"0 -960 960 960\">\n",
              "    <path d=\"M120-120v-720h720v720H120Zm60-500h600v-160H180v160Zm220 220h160v-160H400v160Zm0 220h160v-160H400v160ZM180-400h160v-160H180v160Zm440 0h160v-160H620v160ZM180-180h160v-160H180v160Zm440 0h160v-160H620v160Z\"/>\n",
              "  </svg>\n",
              "    </button>\n",
              "\n",
              "  <style>\n",
              "    .colab-df-container {\n",
              "      display:flex;\n",
              "      gap: 12px;\n",
              "    }\n",
              "\n",
              "    .colab-df-convert {\n",
              "      background-color: #E8F0FE;\n",
              "      border: none;\n",
              "      border-radius: 50%;\n",
              "      cursor: pointer;\n",
              "      display: none;\n",
              "      fill: #1967D2;\n",
              "      height: 32px;\n",
              "      padding: 0 0 0 0;\n",
              "      width: 32px;\n",
              "    }\n",
              "\n",
              "    .colab-df-convert:hover {\n",
              "      background-color: #E2EBFA;\n",
              "      box-shadow: 0px 1px 2px rgba(60, 64, 67, 0.3), 0px 1px 3px 1px rgba(60, 64, 67, 0.15);\n",
              "      fill: #174EA6;\n",
              "    }\n",
              "\n",
              "    .colab-df-buttons div {\n",
              "      margin-bottom: 4px;\n",
              "    }\n",
              "\n",
              "    [theme=dark] .colab-df-convert {\n",
              "      background-color: #3B4455;\n",
              "      fill: #D2E3FC;\n",
              "    }\n",
              "\n",
              "    [theme=dark] .colab-df-convert:hover {\n",
              "      background-color: #434B5C;\n",
              "      box-shadow: 0px 1px 3px 1px rgba(0, 0, 0, 0.15);\n",
              "      filter: drop-shadow(0px 1px 2px rgba(0, 0, 0, 0.3));\n",
              "      fill: #FFFFFF;\n",
              "    }\n",
              "  </style>\n",
              "\n",
              "    <script>\n",
              "      const buttonEl =\n",
              "        document.querySelector('#df-1611a509-0d94-474c-af06-f3c57a8d2685 button.colab-df-convert');\n",
              "      buttonEl.style.display =\n",
              "        google.colab.kernel.accessAllowed ? 'block' : 'none';\n",
              "\n",
              "      async function convertToInteractive(key) {\n",
              "        const element = document.querySelector('#df-1611a509-0d94-474c-af06-f3c57a8d2685');\n",
              "        const dataTable =\n",
              "          await google.colab.kernel.invokeFunction('convertToInteractive',\n",
              "                                                    [key], {});\n",
              "        if (!dataTable) return;\n",
              "\n",
              "        const docLinkHtml = 'Like what you see? Visit the ' +\n",
              "          '<a target=\"_blank\" href=https://colab.research.google.com/notebooks/data_table.ipynb>data table notebook</a>'\n",
              "          + ' to learn more about interactive tables.';\n",
              "        element.innerHTML = '';\n",
              "        dataTable['output_type'] = 'display_data';\n",
              "        await google.colab.output.renderOutput(dataTable, element);\n",
              "        const docLink = document.createElement('div');\n",
              "        docLink.innerHTML = docLinkHtml;\n",
              "        element.appendChild(docLink);\n",
              "      }\n",
              "    </script>\n",
              "  </div>\n",
              "\n",
              "\n",
              "<div id=\"df-0c25ca39-aa96-4fcb-842d-b41485996fbc\">\n",
              "  <button class=\"colab-df-quickchart\" onclick=\"quickchart('df-0c25ca39-aa96-4fcb-842d-b41485996fbc')\"\n",
              "            title=\"Suggest charts\"\n",
              "            style=\"display:none;\">\n",
              "\n",
              "<svg xmlns=\"http://www.w3.org/2000/svg\" height=\"24px\"viewBox=\"0 0 24 24\"\n",
              "     width=\"24px\">\n",
              "    <g>\n",
              "        <path d=\"M19 3H5c-1.1 0-2 .9-2 2v14c0 1.1.9 2 2 2h14c1.1 0 2-.9 2-2V5c0-1.1-.9-2-2-2zM9 17H7v-7h2v7zm4 0h-2V7h2v10zm4 0h-2v-4h2v4z\"/>\n",
              "    </g>\n",
              "</svg>\n",
              "  </button>\n",
              "\n",
              "<style>\n",
              "  .colab-df-quickchart {\n",
              "      --bg-color: #E8F0FE;\n",
              "      --fill-color: #1967D2;\n",
              "      --hover-bg-color: #E2EBFA;\n",
              "      --hover-fill-color: #174EA6;\n",
              "      --disabled-fill-color: #AAA;\n",
              "      --disabled-bg-color: #DDD;\n",
              "  }\n",
              "\n",
              "  [theme=dark] .colab-df-quickchart {\n",
              "      --bg-color: #3B4455;\n",
              "      --fill-color: #D2E3FC;\n",
              "      --hover-bg-color: #434B5C;\n",
              "      --hover-fill-color: #FFFFFF;\n",
              "      --disabled-bg-color: #3B4455;\n",
              "      --disabled-fill-color: #666;\n",
              "  }\n",
              "\n",
              "  .colab-df-quickchart {\n",
              "    background-color: var(--bg-color);\n",
              "    border: none;\n",
              "    border-radius: 50%;\n",
              "    cursor: pointer;\n",
              "    display: none;\n",
              "    fill: var(--fill-color);\n",
              "    height: 32px;\n",
              "    padding: 0;\n",
              "    width: 32px;\n",
              "  }\n",
              "\n",
              "  .colab-df-quickchart:hover {\n",
              "    background-color: var(--hover-bg-color);\n",
              "    box-shadow: 0 1px 2px rgba(60, 64, 67, 0.3), 0 1px 3px 1px rgba(60, 64, 67, 0.15);\n",
              "    fill: var(--button-hover-fill-color);\n",
              "  }\n",
              "\n",
              "  .colab-df-quickchart-complete:disabled,\n",
              "  .colab-df-quickchart-complete:disabled:hover {\n",
              "    background-color: var(--disabled-bg-color);\n",
              "    fill: var(--disabled-fill-color);\n",
              "    box-shadow: none;\n",
              "  }\n",
              "\n",
              "  .colab-df-spinner {\n",
              "    border: 2px solid var(--fill-color);\n",
              "    border-color: transparent;\n",
              "    border-bottom-color: var(--fill-color);\n",
              "    animation:\n",
              "      spin 1s steps(1) infinite;\n",
              "  }\n",
              "\n",
              "  @keyframes spin {\n",
              "    0% {\n",
              "      border-color: transparent;\n",
              "      border-bottom-color: var(--fill-color);\n",
              "      border-left-color: var(--fill-color);\n",
              "    }\n",
              "    20% {\n",
              "      border-color: transparent;\n",
              "      border-left-color: var(--fill-color);\n",
              "      border-top-color: var(--fill-color);\n",
              "    }\n",
              "    30% {\n",
              "      border-color: transparent;\n",
              "      border-left-color: var(--fill-color);\n",
              "      border-top-color: var(--fill-color);\n",
              "      border-right-color: var(--fill-color);\n",
              "    }\n",
              "    40% {\n",
              "      border-color: transparent;\n",
              "      border-right-color: var(--fill-color);\n",
              "      border-top-color: var(--fill-color);\n",
              "    }\n",
              "    60% {\n",
              "      border-color: transparent;\n",
              "      border-right-color: var(--fill-color);\n",
              "    }\n",
              "    80% {\n",
              "      border-color: transparent;\n",
              "      border-right-color: var(--fill-color);\n",
              "      border-bottom-color: var(--fill-color);\n",
              "    }\n",
              "    90% {\n",
              "      border-color: transparent;\n",
              "      border-bottom-color: var(--fill-color);\n",
              "    }\n",
              "  }\n",
              "</style>\n",
              "\n",
              "  <script>\n",
              "    async function quickchart(key) {\n",
              "      const quickchartButtonEl =\n",
              "        document.querySelector('#' + key + ' button');\n",
              "      quickchartButtonEl.disabled = true;  // To prevent multiple clicks.\n",
              "      quickchartButtonEl.classList.add('colab-df-spinner');\n",
              "      try {\n",
              "        const charts = await google.colab.kernel.invokeFunction(\n",
              "            'suggestCharts', [key], {});\n",
              "      } catch (error) {\n",
              "        console.error('Error during call to suggestCharts:', error);\n",
              "      }\n",
              "      quickchartButtonEl.classList.remove('colab-df-spinner');\n",
              "      quickchartButtonEl.classList.add('colab-df-quickchart-complete');\n",
              "    }\n",
              "    (() => {\n",
              "      let quickchartButtonEl =\n",
              "        document.querySelector('#df-0c25ca39-aa96-4fcb-842d-b41485996fbc button');\n",
              "      quickchartButtonEl.style.display =\n",
              "        google.colab.kernel.accessAllowed ? 'block' : 'none';\n",
              "    })();\n",
              "  </script>\n",
              "</div>\n",
              "\n",
              "    </div>\n",
              "  </div>\n"
            ],
            "application/vnd.google.colaboratory.intrinsic+json": {
              "type": "dataframe",
              "summary": "{\n  \"name\": \"df\",\n  \"rows\": 25,\n  \"fields\": [\n    {\n      \"column\": \"label\",\n      \"properties\": {\n        \"dtype\": \"number\",\n        \"std\": 0,\n        \"min\": 1,\n        \"max\": 1,\n        \"num_unique_values\": 1,\n        \"samples\": [\n          1\n        ],\n        \"semantic_type\": \"\",\n        \"description\": \"\"\n      }\n    },\n    {\n      \"column\": \"data\",\n      \"properties\": {\n        \"dtype\": \"string\",\n        \"num_unique_values\": 23,\n        \"samples\": [\n          \"The cupcakes were moist and topped with a creamy frosting.\"\n        ],\n        \"semantic_type\": \"\",\n        \"description\": \"\"\n      }\n    }\n  ]\n}"
            }
          },
          "metadata": {},
          "execution_count": 5
        }
      ]
    },
    {
      "cell_type": "code",
      "source": [
        "def preprocess_sentence(sentence):\n",
        "  sentence = sentence.lower()\n",
        "  sentence = nltk.tokenize.word_tokenize(sentence)\n",
        "\n",
        "  tokens = []\n",
        "\n",
        "  for token in sentence:\n",
        "    token = lemmatizer.lemmatize(token)\n",
        "    tokens.append(token)\n",
        "  return \" \".join(tokens)\n",
        "\n",
        "def preprocess_corpus(corpus):\n",
        "\n",
        "  sentences = []\n",
        "  for sentence in corpus:\n",
        "    processred_corpus = preprocess_sentence(sentence)\n",
        "    sentences.append(processred_corpus)\n",
        "\n",
        "  return sentences\n",
        "\n",
        "\n",
        "def find_vocab(corpus):\n",
        "\n",
        "  vocabulary = {}\n",
        "  for sentence in corpus:\n",
        "    for token in sentence.split():\n",
        "      if token not in vocabulary:\n",
        "        vocabulary[token] = len(vocabulary)\n",
        "  return vocabulary\n",
        "\n",
        "\n",
        "\n",
        "def fbow(corpus):\n",
        "  df = create_df()\n",
        "  corpus = df['data'].values.tolist()\n",
        "  lables = df['label'].values\n",
        "  proprocess_sentencess = preprocess_corpus(corpus)\n",
        "  vacabulary = find_vocab(proprocess_sentencess)\n",
        "\n",
        "  N = len(proprocess_sentencess)\n",
        "  V = len(vacabulary)\n",
        "\n",
        "  fbow  = np.zeros((N,V))\n",
        "\n",
        "  for i, sentence in enumerate(proprocess_sentencess):\n",
        "    for token in sentence.split():\n",
        "      fbow[i,vacabulary[token]] += 1\n",
        "\n",
        "  return fbow,lables\n"
      ],
      "metadata": {
        "id": "w8Zb1JHzfbsk"
      },
      "execution_count": null,
      "outputs": []
    },
    {
      "cell_type": "code",
      "source": [
        "corpus = [\n",
        "    \"Red bull drops hint on F1 engine\",\n",
        "    \"Honda exits F1 , leaving F1 parter Red Bull\",\n",
        "    \"Hamilton eyes record eight F1 title\",\n",
        "    \"Hamilton wins record ninth F1 title\",\n",
        "    \"Aston martin annunces sponsor\",\n",
        "\n",
        "]\n",
        "\n",
        "fbow(corpus)\n"
      ],
      "metadata": {
        "colab": {
          "base_uri": "https://localhost:8080/"
        },
        "id": "31TDLh5shXc8",
        "outputId": "f484d634-a698-4b80-8766-e7fb4dcb7952"
      },
      "execution_count": null,
      "outputs": [
        {
          "output_type": "stream",
          "name": "stdout",
          "text": [
            "269\n"
          ]
        },
        {
          "output_type": "execute_result",
          "data": {
            "text/plain": [
              "(array([[1., 1., 1., ..., 0., 0., 0.],\n",
              "        [1., 0., 1., ..., 0., 0., 0.],\n",
              "        [0., 0., 0., ..., 0., 0., 0.],\n",
              "        ...,\n",
              "        [1., 0., 1., ..., 0., 0., 1.],\n",
              "        [1., 0., 0., ..., 0., 0., 0.],\n",
              "        [2., 0., 1., ..., 0., 0., 0.]]),\n",
              " array([0, 0, 0, 0, 0, 0, 0, 0, 0, 0, 0, 0, 0, 0, 0, 0, 0, 0, 0, 0, 0, 0,\n",
              "        0, 0, 0, 0, 0, 0, 0, 0, 0, 0, 0, 0, 0, 0, 0, 0, 0, 0, 0, 0, 0, 0,\n",
              "        0, 0, 0, 0, 0, 0, 0, 0, 0, 0, 0, 0, 0, 0, 0, 0, 0, 0, 0, 0, 0, 0,\n",
              "        0, 0, 0, 0, 0, 0, 0, 0, 0, 0, 0, 0, 0, 0, 0, 0, 0, 0, 0, 0, 0, 0,\n",
              "        0, 0, 0, 0, 0, 0, 1, 1, 1, 1, 1, 1, 1, 1, 1, 1, 1, 1, 1, 1, 1, 1,\n",
              "        1, 1, 1, 1, 1, 1, 1, 1, 1, 1, 1, 1, 1, 1, 1, 1, 1, 1, 1, 1, 1, 1,\n",
              "        1, 1, 1, 1, 1, 1, 1, 1, 1, 1, 1, 1, 1, 1, 1, 1, 1, 1, 1, 1, 1, 1,\n",
              "        1, 1, 1, 1, 1, 1, 1, 1, 1, 1, 1, 1, 1, 1, 1, 1, 1, 1, 1, 1, 1, 1]))"
            ]
          },
          "metadata": {},
          "execution_count": 83
        }
      ]
    },
    {
      "cell_type": "code",
      "source": [
        "bow, labels = fbow(corpus)"
      ],
      "metadata": {
        "id": "2Wr41wLXYUsQ"
      },
      "execution_count": null,
      "outputs": []
    },
    {
      "cell_type": "code",
      "source": [
        "print(f\"the shape of the bow is {bow.shape}\")\n",
        "print(f\"the shape of the labels is {labels.shape}\")"
      ],
      "metadata": {
        "colab": {
          "base_uri": "https://localhost:8080/"
        },
        "id": "z62oN4H5oAn7",
        "outputId": "5f9da85a-b2b2-471e-92ef-b4b26a40127c"
      },
      "execution_count": null,
      "outputs": [
        {
          "output_type": "stream",
          "name": "stdout",
          "text": [
            "the shape of the bow is (176, 269)\n",
            "the shape of the labels is (176,)\n"
          ]
        }
      ]
    },
    {
      "cell_type": "markdown",
      "source": [
        "### Model Training"
      ],
      "metadata": {
        "id": "LHkt_ZFMoMdK"
      }
    },
    {
      "cell_type": "code",
      "source": [
        "rfc = RandomForestClassifier()\n",
        "rfc.fit(bow,labels)"
      ],
      "metadata": {
        "id": "ZaYpOj32lK9Q",
        "colab": {
          "base_uri": "https://localhost:8080/",
          "height": 74
        },
        "outputId": "173f9731-d4b1-4a78-91fb-5d719c686049"
      },
      "execution_count": null,
      "outputs": [
        {
          "output_type": "execute_result",
          "data": {
            "text/plain": [
              "RandomForestClassifier()"
            ],
            "text/html": [
              "<style>#sk-container-id-2 {color: black;background-color: white;}#sk-container-id-2 pre{padding: 0;}#sk-container-id-2 div.sk-toggleable {background-color: white;}#sk-container-id-2 label.sk-toggleable__label {cursor: pointer;display: block;width: 100%;margin-bottom: 0;padding: 0.3em;box-sizing: border-box;text-align: center;}#sk-container-id-2 label.sk-toggleable__label-arrow:before {content: \"▸\";float: left;margin-right: 0.25em;color: #696969;}#sk-container-id-2 label.sk-toggleable__label-arrow:hover:before {color: black;}#sk-container-id-2 div.sk-estimator:hover label.sk-toggleable__label-arrow:before {color: black;}#sk-container-id-2 div.sk-toggleable__content {max-height: 0;max-width: 0;overflow: hidden;text-align: left;background-color: #f0f8ff;}#sk-container-id-2 div.sk-toggleable__content pre {margin: 0.2em;color: black;border-radius: 0.25em;background-color: #f0f8ff;}#sk-container-id-2 input.sk-toggleable__control:checked~div.sk-toggleable__content {max-height: 200px;max-width: 100%;overflow: auto;}#sk-container-id-2 input.sk-toggleable__control:checked~label.sk-toggleable__label-arrow:before {content: \"▾\";}#sk-container-id-2 div.sk-estimator input.sk-toggleable__control:checked~label.sk-toggleable__label {background-color: #d4ebff;}#sk-container-id-2 div.sk-label input.sk-toggleable__control:checked~label.sk-toggleable__label {background-color: #d4ebff;}#sk-container-id-2 input.sk-hidden--visually {border: 0;clip: rect(1px 1px 1px 1px);clip: rect(1px, 1px, 1px, 1px);height: 1px;margin: -1px;overflow: hidden;padding: 0;position: absolute;width: 1px;}#sk-container-id-2 div.sk-estimator {font-family: monospace;background-color: #f0f8ff;border: 1px dotted black;border-radius: 0.25em;box-sizing: border-box;margin-bottom: 0.5em;}#sk-container-id-2 div.sk-estimator:hover {background-color: #d4ebff;}#sk-container-id-2 div.sk-parallel-item::after {content: \"\";width: 100%;border-bottom: 1px solid gray;flex-grow: 1;}#sk-container-id-2 div.sk-label:hover label.sk-toggleable__label {background-color: #d4ebff;}#sk-container-id-2 div.sk-serial::before {content: \"\";position: absolute;border-left: 1px solid gray;box-sizing: border-box;top: 0;bottom: 0;left: 50%;z-index: 0;}#sk-container-id-2 div.sk-serial {display: flex;flex-direction: column;align-items: center;background-color: white;padding-right: 0.2em;padding-left: 0.2em;position: relative;}#sk-container-id-2 div.sk-item {position: relative;z-index: 1;}#sk-container-id-2 div.sk-parallel {display: flex;align-items: stretch;justify-content: center;background-color: white;position: relative;}#sk-container-id-2 div.sk-item::before, #sk-container-id-2 div.sk-parallel-item::before {content: \"\";position: absolute;border-left: 1px solid gray;box-sizing: border-box;top: 0;bottom: 0;left: 50%;z-index: -1;}#sk-container-id-2 div.sk-parallel-item {display: flex;flex-direction: column;z-index: 1;position: relative;background-color: white;}#sk-container-id-2 div.sk-parallel-item:first-child::after {align-self: flex-end;width: 50%;}#sk-container-id-2 div.sk-parallel-item:last-child::after {align-self: flex-start;width: 50%;}#sk-container-id-2 div.sk-parallel-item:only-child::after {width: 0;}#sk-container-id-2 div.sk-dashed-wrapped {border: 1px dashed gray;margin: 0 0.4em 0.5em 0.4em;box-sizing: border-box;padding-bottom: 0.4em;background-color: white;}#sk-container-id-2 div.sk-label label {font-family: monospace;font-weight: bold;display: inline-block;line-height: 1.2em;}#sk-container-id-2 div.sk-label-container {text-align: center;}#sk-container-id-2 div.sk-container {/* jupyter's `normalize.less` sets `[hidden] { display: none; }` but bootstrap.min.css set `[hidden] { display: none !important; }` so we also need the `!important` here to be able to override the default hidden behavior on the sphinx rendered scikit-learn.org. See: https://github.com/scikit-learn/scikit-learn/issues/21755 */display: inline-block !important;position: relative;}#sk-container-id-2 div.sk-text-repr-fallback {display: none;}</style><div id=\"sk-container-id-2\" class=\"sk-top-container\"><div class=\"sk-text-repr-fallback\"><pre>RandomForestClassifier()</pre><b>In a Jupyter environment, please rerun this cell to show the HTML representation or trust the notebook. <br />On GitHub, the HTML representation is unable to render, please try loading this page with nbviewer.org.</b></div><div class=\"sk-container\" hidden><div class=\"sk-item\"><div class=\"sk-estimator sk-toggleable\"><input class=\"sk-toggleable__control sk-hidden--visually\" id=\"sk-estimator-id-2\" type=\"checkbox\" checked><label for=\"sk-estimator-id-2\" class=\"sk-toggleable__label sk-toggleable__label-arrow\">RandomForestClassifier</label><div class=\"sk-toggleable__content\"><pre>RandomForestClassifier()</pre></div></div></div></div></div>"
            ]
          },
          "metadata": {},
          "execution_count": 36
        }
      ]
    },
    {
      "cell_type": "code",
      "source": [
        "pred = rfc.predict(bow)\n",
        "\n",
        "accuracy = accuracy_score(labels, pred)\n",
        "f1 = f1_score(labels,pred)\n",
        "print(f\"the accuracy score of the model is {accuracy*100}%\")\n",
        "print(f\"the accuracy score of the model is {f1*100}%\")"
      ],
      "metadata": {
        "colab": {
          "base_uri": "https://localhost:8080/"
        },
        "id": "KZhq5dpIX9Z6",
        "outputId": "1c949fe3-6ce0-4957-8d6b-105d93f6e469"
      },
      "execution_count": null,
      "outputs": [
        {
          "output_type": "stream",
          "name": "stdout",
          "text": [
            "the accuracy score of the model is 100.0%\n",
            "the accuracy score of the model is 100.0%\n"
          ]
        }
      ]
    },
    {
      "cell_type": "code",
      "source": [
        "cm = confusion_matrix(labels,pred)\n",
        "disp = ConfusionMatrixDisplay(\n",
        "    confusion_matrix = cm,\n",
        "    display_labels = ['Nagative' , 'Possivite']\n",
        "\n",
        "\n",
        ")\n",
        "disp.plot();"
      ],
      "metadata": {
        "colab": {
          "base_uri": "https://localhost:8080/",
          "height": 449
        },
        "id": "H5DKTn7uol52",
        "outputId": "be9cff7e-371f-4143-bf48-5b280ac1a52f"
      },
      "execution_count": null,
      "outputs": [
        {
          "output_type": "display_data",
          "data": {
            "text/plain": [
              "<Figure size 640x480 with 2 Axes>"
            ],
            "image/png": "[encoded data removed]"
          },
          "metadata": {}
        }
      ]
    },
    {
      "cell_type": "code",
      "source": [
        "def inference_bow(sentence):\n",
        "    sentence =  preprocess_sentence(sentence)\n",
        "\n",
        "    df = create_df();\n",
        "    corpus = df['data'].values.tolist()\n",
        "    preprocessed_corpus = preprocess_corpus(corpus)\n",
        "    vacabulary = find_vocab(preprocessed_corpus)\n",
        "\n",
        "    N = 1\n",
        "    V = len(vacabulary)\n",
        "\n",
        "    bow = np.zeros((N,V))\n",
        "\n",
        "    for i,sentence in enumerate([sentence]):\n",
        "      for token in sentence.split():\n",
        "        try:\n",
        "          bow[i,vacabulary[token]]+=1\n",
        "        except:\n",
        "          pass\n",
        "\n",
        "      p = int(rfc.predict(bow).squeeze())\n",
        "      p = \"Positive\" if p == 1 else \"Negative\"\n",
        "      return p"
      ],
      "metadata": {
        "id": "3lkHreiSpx3q"
      },
      "execution_count": null,
      "outputs": []
    },
    {
      "cell_type": "code",
      "source": [
        "inference_bow(\"I do not like Cup Cakes\")"
      ],
      "metadata": {
        "colab": {
          "base_uri": "https://localhost:8080/",
          "height": 53
        },
        "id": "vqKTE2Mvsif1",
        "outputId": "a6b39410-14a8-41ae-d806-e6b0dffa51a5"
      },
      "execution_count": null,
      "outputs": [
        {
          "output_type": "stream",
          "name": "stdout",
          "text": [
            "269\n"
          ]
        },
        {
          "output_type": "execute_result",
          "data": {
            "text/plain": [
              "'Negative'"
            ],
            "application/vnd.google.colaboratory.intrinsic+json": {
              "type": "string"
            }
          },
          "metadata": {},
          "execution_count": 85
        }
      ]
    },
    {
      "cell_type": "code",
      "source": [],
      "metadata": {
        "id": "6U-e9fNy2z6O"
      },
      "execution_count": null,
      "outputs": []
    }
  ],
  "metadata": {
    "colab": {
      "provenance": [],
      "authorship_tag": "ABX9TyNh6+UvsMc2VyZFBz50XQyP",
      "include_colab_link": true
    },
    "kernelspec": {
      "display_name": "Python 3",
      "name": "python3"
    },
    "language_info": {
      "name": "python"
    }
  },
  "nbformat": 4,
  "nbformat_minor": 0
}