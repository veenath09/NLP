{
  "nbformat": 4,
  "nbformat_minor": 0,
  "metadata": {
    "colab": {
      "provenance": [],
      "authorship_tag": "ABX9TyMrZnUUFz+zj6+XpyPSU65u",
      "include_colab_link": true
    },
    "kernelspec": {
      "name": "python3",
      "display_name": "Python 3"
    },
    "language_info": {
      "name": "python"
    }
  },
  "cells": [
    {
      "cell_type": "markdown",
      "metadata": {
        "id": "view-in-github",
        "colab_type": "text"
      },
      "source": [
        "<a href=\"https://colab.research.google.com/github/veenath09/NLP/blob/main/RNN.ipynb\" target=\"_parent\"><img src=\"https://colab.research.google.com/assets/colab-badge.svg\" alt=\"Open In Colab\"/></a>"
      ]
    },
    {
      "cell_type": "code",
      "execution_count": null,
      "metadata": {
        "colab": {
          "base_uri": "https://localhost:8080/"
        },
        "id": "dH_IeaUEu-vZ",
        "outputId": "5bbf107b-85b9-483b-95b8-22a07664607c"
      },
      "outputs": [
        {
          "output_type": "stream",
          "name": "stdout",
          "text": [
            "Requirement already satisfied: gensim==4.* in /usr/local/lib/python3.10/dist-packages (4.3.2)\n",
            "Requirement already satisfied: numpy>=1.18.5 in /usr/local/lib/python3.10/dist-packages (from gensim==4.*) (1.25.2)\n",
            "Requirement already satisfied: scipy>=1.7.0 in /usr/local/lib/python3.10/dist-packages (from gensim==4.*) (1.11.4)\n",
            "Requirement already satisfied: smart-open>=1.8.1 in /usr/local/lib/python3.10/dist-packages (from gensim==4.*) (7.0.4)\n",
            "Requirement already satisfied: wrapt in /usr/local/lib/python3.10/dist-packages (from smart-open>=1.8.1->gensim==4.*) (1.14.1)\n"
          ]
        }
      ],
      "source": [
        "!pip install -U gensim==4.*"
      ]
    },
    {
      "cell_type": "code",
      "source": [
        "import collections\n",
        "import numpy as np\n",
        "import pandas as pd\n",
        "import tensorflow as tf\n",
        "from sklearn.model_selection import train_test_split"
      ],
      "metadata": {
        "id": "faZqMGMyvQE2"
      },
      "execution_count": null,
      "outputs": []
    },
    {
      "cell_type": "code",
      "source": [
        "import nltk\n",
        "import numpy as np\n",
        "import pandas as pd\n",
        "import matplotlib.pyplot as plt\n",
        "from nltk.stem import WordNetLemmatizer\n",
        "from nltk.tokenize import RegexpTokenizer\n",
        "from sklearn.ensemble import RandomForestClassifier\n",
        "from sklearn.metrics import confusion_matrix, ConfusionMatrixDisplay, accuracy_score, f1_score\n",
        "\n",
        "nltk.download('punkt')\n",
        "nltk.download('wordnet')\n",
        "nltk.download('stopwords')"
      ],
      "metadata": {
        "id": "3vjs0SYWy_uI",
        "colab": {
          "base_uri": "https://localhost:8080/"
        },
        "outputId": "d68f7629-7633-453f-90ba-93bca3e5f6bf"
      },
      "execution_count": null,
      "outputs": [
        {
          "output_type": "stream",
          "name": "stderr",
          "text": [
            "[nltk_data] Downloading package punkt to /root/nltk_data...\n",
            "[nltk_data]   Unzipping tokenizers/punkt.zip.\n",
            "[nltk_data] Downloading package wordnet to /root/nltk_data...\n",
            "[nltk_data] Downloading package stopwords to /root/nltk_data...\n",
            "[nltk_data]   Unzipping corpora/stopwords.zip.\n"
          ]
        },
        {
          "output_type": "execute_result",
          "data": {
            "text/plain": [
              "True"
            ]
          },
          "metadata": {},
          "execution_count": 1
        }
      ]
    },
    {
      "cell_type": "code",
      "source": [
        "negative_corpus = [\n",
        "    \"The croissants were stale and tasted like cardboard.\",\n",
        "    \"The cupcakes were dry and flavorless.\",\n",
        "    \"I found a hair in my cinnamon roll, disgusting!\",\n",
        "    \"The bread was rock hard, couldn't even bite into it.\",\n",
        "    \"The cookies were burnt to a crisp, terrible!\",\n",
        "    \"The muffins were so dry, felt like I was eating sand.\",\n",
        "    \"The pastries were overpriced and underwhelming.\",\n",
        "    \"The bagels were doughy and undercooked.\",\n",
        "    \"I got food poisoning from their eclairs, never going back!\",\n",
        "    \"The donuts were stale and tasted like old oil.\",\n",
        "    \"The pie crust was soggy and the filling tasted artificial.\",\n",
        "    \"The scones were hard as a rock, couldn't even cut through them.\",\n",
        "    \"The macarons were stale and had no flavor.\",\n",
        "    \"The brownies were undercooked in the middle and burnt on the edges.\",\n",
        "    \"The cake was dry and crumbly, a total disappointment.\",\n",
        "    \"The breadsticks were stale and chewy, couldn't even finish one.\",\n",
        "    \"The pretzels were too salty, it was like eating salt with a side of dough.\",\n",
        "    \"The muffins were so dry, I needed a gallon of water just to swallow.\",\n",
        "    \"The turnovers were filled with mushy, unripe fruit.\",\n",
        "    \"The cheesecake was sour and tasted spoiled.\",\n",
        "    \"The danishes were dry and lacked any real flavor.\",\n",
        "    \"The buns were hard and tasted like they were days old.\",\n",
        "    \"The focaccia was burnt and tasted like charcoal.\",\n",
        "    \"The baguettes were undercooked and doughy in the middle.\",\n",
        "    \"The pastry cream in the eclairs was curdled and disgusting.\",\n",
        "    \"The bread rolls were dense and flavorless.\",\n",
        "    \"The cookies were so hard, I thought I was going to break a tooth.\",\n",
        "    \"The croissants were tiny and overpriced.\",\n",
        "    \"The brownies were so dry, I couldn't even finish one bite.\",\n",
        "    \"The pie crust was so tough, I couldn't cut through it with a knife.\",\n",
        "    \"The bagels were stale and tasted like cardboard.\",\n",
        "    \"The donuts were greasy and left a bad aftertaste.\",\n",
        "    \"The cake was dry and lacked any real flavor.\",\n",
        "    \"The pastries were dry and stale, tasted like they were sitting out for days.\",\n",
        "    \"The breadsticks were burnt and inedible.\",\n",
        "    \"The muffins were dry and crumbly, not worth the money.\",\n",
        "    \"The cookies were so burnt, they were practically charcoal.\",\n",
        "    \"The scones were hard as a rock, couldn't even bite into them.\",\n",
        "    \"The croissants were soggy and undercooked.\",\n",
        "    \"The cupcakes were dry and tasteless, waste of money.\",\n",
        "    \"The pie was too sweet and the crust was burnt.\",\n",
        "    \"The baguettes were stale and tasted like old flour.\",\n",
        "    \"The donuts were greasy and left a film in my mouth.\",\n",
        "    \"The bread was so dry, it sucked all the moisture out of my mouth.\",\n",
        "    \"The muffins were bland and dry, couldn't even finish one.\",\n",
        "    \"The pastries were stale and had a weird aftertaste.\",\n",
        "    \"The brownies were so hard, I could barely cut through them.\",\n",
        "    \"The cake was stale and tasted like it was made weeks ago.\",\n",
        "    \"The cookies were overbaked and tasted burnt.\",\n",
        "    \"The croissants were stale and lacked any real buttery flavor.\",\n",
        "    \"The cupcakes were dry and crumbly, not enjoyable at all.\",\n",
        "    \"The cinnamon rolls were dry and the icing was too sweet.\",\n",
        "    \"The bagels were dense and tasteless.\",\n",
        "    \"The donuts were stale and tasted like old oil.\",\n",
        "    \"The pie crust was soggy and undercooked.\",\n",
        "    \"The breadsticks were stale and tasted like cardboard.\",\n",
        "    \"The muffins were dry and lacked any real flavor.\",\n",
        "    \"The pastries were dry and tasted like they were made with old ingredients.\",\n",
        "    \"The brownies were undercooked and gooey in the middle.\",\n",
        "    \"The cake was dry and tasted like it was made with cheap ingredients.\",\n",
        "    \"The cookies were so hard, I couldn't even dunk them in milk.\",\n",
        "    \"The croissants were small and overpriced.\",\n",
        "    \"The cupcakes were dry and crumbly, not worth the money.\",\n",
        "    \"The cinnamon rolls were dry and lacked any real cinnamon flavor.\",\n",
        "    \"The baguettes were stale and tasted like they were made with old yeast.\",\n",
        "    \"The donuts were greasy and left a bad aftertaste.\",\n",
        "    \"The bread was dry and tasted like it was left out for days.\",\n",
        "    \"The muffins were bland and undercooked, couldn't even finish one.\",\n",
        "    \"The pastries were stale and had a strange smell.\",\n",
        "    \"The brownies were so dry, I needed a glass of milk just to swallow.\",\n",
        "    \"The cake was dry and tasted like it was made with expired ingredients.\",\n",
        "    \"The cookies were burnt and had a bitter taste.\",\n",
        "    \"The croissants were stale and had a weird texture.\",\n",
        "    \"The cupcakes were dry and tasteless, not worth the calories.\",\n",
        "    \"The cinnamon rolls were dry and lacked any real flavor.\",\n",
        "    \"The bagels were dense and chewy, like eating a rubber tire.\",\n",
        "    \"The donuts were stale and tasted like old oil.\",\n",
        "    \"The bread was dry and tasted like cardboard.\",\n",
        "    \"The muffins were dry and crumbly, couldn't even finish one.\",\n",
        "    \"The pastries were stale and had a strange aftertaste.\",\n",
        "    \"The brownies were undercooked and gooey, not enjoyable at all.\",\n",
        "    \"The cake was dry and tasted like it was made with low-quality ingredients.\",\n",
        "    \"The cookies were so hard, I almost chipped a tooth.\",\n",
        "    \"The croissants were small and overpriced, not worth it.\",\n",
        "    \"The cupcakes were dry and lacked any real flavor.\",\n",
        "    \"The cinnamon rolls were dry and the icing was too sugary.\",\n",
        "    \"The baguettes were stale and tasted like they were made with old flour.\",\n",
        "    \"The donuts were greasy and left a film in my mouth.\",\n",
        "    \"The bread was dry and crumbled as soon as I touched it.\",\n",
        "    \"The muffins were bland and undercooked, felt like they were raw inside.\",\n",
        "    \"The pastries were stale and had a strange texture.\",\n",
        "    \"The brownies were so dry, I couldn't even swallow them.\",\n",
        "    \"The cake was dry and tasted like it was made with expired ingredients.\",\n",
        "    \"The cookies were burnt and had a bitter aftertaste.\"\n",
        "]\n",
        "\n",
        "positive_corpus = [\n",
        "    \"The croissants were flaky and buttery, absolutely delicious!\",\n",
        "    \"The cupcakes were moist and bursting with flavor.\",\n",
        "    \"I loved the cinnamon rolls, they were gooey and had just the right amount of icing.\",\n",
        "    \"The bread was fresh out of the oven and had a perfect crust.\",\n",
        "    \"The cookies were chewy and filled with chocolate chips, divine!\",\n",
        "    \"The muffins were moist and had a wonderful aroma.\",\n",
        "    \"The pastries were a delightful treat, so light and fluffy.\",\n",
        "    \"The bagels were perfectly toasted and topped with cream cheese.\",\n",
        "    \"The eclairs were heavenly, filled with creamy custard.\",\n",
        "    \"The donuts were light and fluffy, with a delicious glaze.\",\n",
        "    \"The pie was absolutely scrumptious, with a flaky crust and flavorful filling.\",\n",
        "    \"The scones were tender and crumbly, just like they should be.\",\n",
        "    \"The macarons were delightful, with a perfect balance of flavors.\",\n",
        "    \"The brownies were rich and fudgy, a chocolate lover's dream.\",\n",
        "    \"The cake was moist and decadent, with creamy frosting.\",\n",
        "    \"The breadsticks were warm and seasoned to perfection.\",\n",
        "    \"The pretzels were soft and salty, just the way I like them.\",\n",
        "    \"The muffins were so moist, they practically melted in my mouth.\",\n",
        "    \"The turnovers were filled with delicious, ripe fruit.\",\n",
        "    \"The cheesecake was creamy and luxurious, a true indulgence.\",\n",
        "    \"The danishes were flaky and filled with sweet, fruity goodness.\",\n",
        "    \"The buns were soft and fluffy, perfect for sandwiches.\",\n",
        "    \"The focaccia was fresh and flavorful, with a crispy crust.\",\n",
        "    \"The baguettes were crusty on the outside and soft on the inside, perfection!\",\n",
        "    \"The eclairs were filled with luscious, creamy filling.\",\n",
        "    \"The bread rolls were warm and fluffy, straight from the oven.\",\n",
        "    \"The cookies were soft and chewy, with just the right amount of sweetness.\",\n",
        "    \"The croissants were buttery and flaky, a true delight.\",\n",
        "    \"The brownies were moist and chocolatey, absolutely delicious.\",\n",
        "    \"The pie crust was perfectly golden and flaky.\",\n",
        "    \"The bagels were chewy and flavorful, perfect with cream cheese.\",\n",
        "    \"The donuts were light and airy, with a delicious glaze.\",\n",
        "    \"The cake was moist and flavorful, with layers of creamy frosting.\",\n",
        "    \"The pastries were fresh and flavorful, a real treat.\",\n",
        "    \"The breadsticks were warm and crispy, perfect for dipping.\",\n",
        "    \"The muffins were moist and bursting with flavor.\",\n",
        "    \"The cookies were soft and chewy, with chunks of chocolate in every bite.\",\n",
        "    \"The scones were tender and buttery, with a hint of sweetness.\",\n",
        "    \"The croissants were flaky and buttery, just like in Paris.\",\n",
        "    \"The cupcakes were moist and topped with creamy frosting.\",\n",
        "    \"The cinnamon rolls were warm and gooey, with a generous amount of icing.\",\n",
        "    \"The baguettes were crusty on the outside and soft on the inside.\",\n",
        "    \"The donuts were light and fluffy, with a perfect glaze.\",\n",
        "    \"The bread was fresh and crusty, perfect for sandwiches.\",\n",
        "    \"The muffins were moist and flavorful, with bursts of fruit in every bite.\",\n",
        "    \"The pastries were light and flaky, with delicious fillings.\",\n",
        "    \"The brownies were rich and fudgy, with chunks of chocolate throughout.\",\n",
        "    \"The cake was moist and decadent, with layers of creamy frosting.\",\n",
        "    \"The cookies were soft and chewy, with just the right amount of sweetness.\",\n",
        "    \"The croissants were buttery and flaky, a true indulgence.\",\n",
        "    \"The cupcakes were moist and topped with fluffy frosting.\",\n",
        "    \"The cinnamon rolls were warm and gooey, with a perfect balance of cinnamon and sugar.\",\n",
        "    \"The bagels were chewy and flavorful, perfect for breakfast.\",\n",
        "    \"The donuts were light and airy, with a delicious glaze.\",\n",
        "    \"The bread was crusty on the outside and soft on the inside, just how I like it.\",\n",
        "    \"The muffins were moist and packed with flavor, a real treat.\",\n",
        "    \"The pastries were light and flaky, with delicious fillings.\",\n",
        "    \"The brownies were rich and chocolatey, with a gooey center.\",\n",
        "    \"The cake was moist and delicious, with layers of creamy frosting.\",\n",
        "    \"The cookies were soft and chewy, with chunks of chocolate in every bite.\",\n",
        "    \"The croissants were flaky and buttery, just like I remembered from France.\",\n",
        "    \"The cupcakes were moist and topped with a generous amount of frosting.\",\n",
        "    \"The cinnamon rolls were warm and gooey, with just the right amount of icing.\",\n",
        "    \"The baguettes were crusty on the outside and soft on the inside, perfect for sandwiches.\",\n",
        "    \"The donuts were light and fluffy, with a delicious glaze.\",\n",
        "    \"The bread was fresh and crusty, perfect for dipping in olive oil.\",\n",
        "    \"The muffins were moist and flavorful, with bursts of fruit in every bite.\",\n",
        "    \"The pastries were light and flaky, with delicious fillings.\",\n",
        "    \"The brownies were rich and fudgy, with a hint of espresso.\",\n",
        "    \"The cake was moist and decadent, with layers of creamy frosting.\",\n",
        "    \"The cookies were soft and chewy, with just the right amount of chocolate chips.\",\n",
        "    \"The croissants were buttery and flaky, a true delight.\",\n",
        "    \"The cupcakes were moist and topped with a creamy frosting.\",\n",
        "    \"The cinnamon rolls were warm and gooey, with a perfect blend of spices.\",\n",
        "    \"The bagels were chewy and flavorful, perfect with cream cheese.\",\n",
        "    \"The donuts were light and airy, with a delicious glaze.\",\n",
        "    \"The bread was crusty on the outside and soft on the inside, just how I like it.\",\n",
        "    \"The muffins were moist and bursting with flavor, a real treat.\",\n",
        "    \"The pastries were light and flaky, with delicious fillings.\",\n",
        "    \"The brownies were rich and fudgy, with a hint of caramel.\",\n",
        "    \"The cake was moist and delicious, with layers of creamy frosting.\",\n",
        "    \"The cookies were soft and chewy, with just the right amount of sweetness.\"\n",
        "]"
      ],
      "metadata": {
        "id": "EhYQh2bH7f1N"
      },
      "execution_count": null,
      "outputs": []
    },
    {
      "cell_type": "code",
      "source": [
        "lemmatizer = WordNetLemmatizer()\n",
        "stopwords = nltk.corpus.stopwords.words('english')"
      ],
      "metadata": {
        "id": "fqEyLZAqCCEp"
      },
      "execution_count": null,
      "outputs": []
    },
    {
      "cell_type": "code",
      "source": [
        "re_tokenizer = RegexpTokenizer(r'[a-z]\\w+')\n",
        "\n",
        "def preprocessing_text(sentence):\n",
        "    sentence = sentence.lower()\n",
        "    sentence = re_tokenizer.tokenize(sentence)\n",
        "\n",
        "    tokens = []\n",
        "    for token in sentence:\n",
        "        if  (token not in stopwords):\n",
        "          token = lemmatizer.lemmatize(token)\n",
        "          tokens.append(token)\n",
        "\n",
        "    return \" \".join(tokens)\n",
        "\n",
        "def preprocessing_corpus(corpus):\n",
        "    preprocessed_corpus = []\n",
        "    for sentence in corpus:\n",
        "        preprocessed_corpus.append(preprocessing_text(sentence))\n",
        "    return preprocessed_corpus\n",
        "\n",
        "def make_dataset():\n",
        "  corpus = positive_corpus + negative_corpus\n",
        "  Y = [1]*len(positive_corpus)+[0]*len(negative_corpus)\n",
        "  corpus=preprocessing_corpus(corpus)\n",
        "\n",
        "  return corpus , Y"
      ],
      "metadata": {
        "id": "PhCmSc5tCQCB"
      },
      "execution_count": null,
      "outputs": []
    },
    {
      "cell_type": "code",
      "source": [
        "corpus, Y = make_dataset()"
      ],
      "metadata": {
        "id": "P4c2oEQuFNvg"
      },
      "execution_count": null,
      "outputs": []
    },
    {
      "cell_type": "code",
      "source": [
        "tokenizer = tf.keras.preprocessing.text.Tokenizer()\n",
        "tokenizer.fit_on_texts(corpus)"
      ],
      "metadata": {
        "id": "zjtXmNI_FUG1"
      },
      "execution_count": null,
      "outputs": []
    },
    {
      "cell_type": "code",
      "source": [
        "corpus_tokens = tokenizer.texts_to_sequences(corpus)"
      ],
      "metadata": {
        "id": "3_rZ-KrQGCGp"
      },
      "execution_count": null,
      "outputs": []
    },
    {
      "cell_type": "code",
      "source": [
        "corpus_tokens[0]"
      ],
      "metadata": {
        "colab": {
          "base_uri": "https://localhost:8080/"
        },
        "id": "69bffJv-VDl0",
        "outputId": "fffb5418-14d3-41a9-bfd9-f60be71f0542"
      },
      "execution_count": null,
      "outputs": [
        {
          "output_type": "execute_result",
          "data": {
            "text/plain": [
              "[10, 11, 31, 80, 8]"
            ]
          },
          "metadata": {},
          "execution_count": 45
        }
      ]
    },
    {
      "cell_type": "code",
      "source": [
        "corpus[0], corpus_tokens[0]"
      ],
      "metadata": {
        "colab": {
          "base_uri": "https://localhost:8080/"
        },
        "id": "AAb61rhCWTcA",
        "outputId": "94ef437c-152b-46ec-dce4-4b71cb6a0706"
      },
      "execution_count": null,
      "outputs": [
        {
          "output_type": "execute_result",
          "data": {
            "text/plain": [
              "('croissant flaky buttery absolutely delicious', [10, 11, 31, 80, 8])"
            ]
          },
          "metadata": {},
          "execution_count": 46
        }
      ]
    },
    {
      "cell_type": "code",
      "source": [
        "vocabulary = tokenizer.word_index\n",
        "vocabulary"
      ],
      "metadata": {
        "colab": {
          "base_uri": "https://localhost:8080/"
        },
        "collapsed": true,
        "id": "GUluZe_0VFgv",
        "outputId": "262d24bd-5499-4052-f9b5-900bb4581f5e"
      },
      "execution_count": null,
      "outputs": [
        {
          "output_type": "execute_result",
          "data": {
            "text/plain": [
              "{'dry': 1,\n",
              " 'like': 2,\n",
              " 'tasted': 3,\n",
              " 'moist': 4,\n",
              " 'stale': 5,\n",
              " 'cooky': 6,\n",
              " 'muffin': 7,\n",
              " 'delicious': 8,\n",
              " 'pastry': 9,\n",
              " 'croissant': 10,\n",
              " 'flaky': 11,\n",
              " 'flavor': 12,\n",
              " 'perfect': 13,\n",
              " 'donut': 14,\n",
              " 'brownie': 15,\n",
              " 'cake': 16,\n",
              " 'soft': 17,\n",
              " 'cinnamon': 18,\n",
              " 'roll': 19,\n",
              " 'bread': 20,\n",
              " 'chewy': 21,\n",
              " 'cupcake': 22,\n",
              " 'light': 23,\n",
              " 'creamy': 24,\n",
              " 'frosting': 25,\n",
              " 'real': 26,\n",
              " 'even': 27,\n",
              " 'flavorful': 28,\n",
              " 'burnt': 29,\n",
              " 'undercooked': 30,\n",
              " 'buttery': 31,\n",
              " 'gooey': 32,\n",
              " 'amount': 33,\n",
              " 'crust': 34,\n",
              " 'bagel': 35,\n",
              " 'hard': 36,\n",
              " 'old': 37,\n",
              " 'made': 38,\n",
              " 'fluffy': 39,\n",
              " 'filling': 40,\n",
              " 'warm': 41,\n",
              " 'baguette': 42,\n",
              " 'crusty': 43,\n",
              " 'bite': 44,\n",
              " 'lacked': 45,\n",
              " 'right': 46,\n",
              " 'filled': 47,\n",
              " 'chocolate': 48,\n",
              " 'glaze': 49,\n",
              " 'pie': 50,\n",
              " 'crumbly': 51,\n",
              " 'inside': 52,\n",
              " 'icing': 53,\n",
              " 'fresh': 54,\n",
              " 'topped': 55,\n",
              " 'rich': 56,\n",
              " 'breadstick': 57,\n",
              " 'outside': 58,\n",
              " 'layer': 59,\n",
              " 'finish': 60,\n",
              " 'one': 61,\n",
              " 'left': 62,\n",
              " 'aftertaste': 63,\n",
              " 'ingredient': 64,\n",
              " 'treat': 65,\n",
              " 'cream': 66,\n",
              " 'eclair': 67,\n",
              " 'scone': 68,\n",
              " 'fudgy': 69,\n",
              " 'mouth': 70,\n",
              " 'fruit': 71,\n",
              " 'true': 72,\n",
              " 'sweetness': 73,\n",
              " 'every': 74,\n",
              " 'oil': 75,\n",
              " 'cardboard': 76,\n",
              " 'overpriced': 77,\n",
              " 'greasy': 78,\n",
              " 'worth': 79,\n",
              " 'absolutely': 80,\n",
              " 'bursting': 81,\n",
              " 'cheese': 82,\n",
              " 'decadent': 83,\n",
              " 'sweet': 84,\n",
              " 'sandwich': 85,\n",
              " 'airy': 86,\n",
              " 'chunk': 87,\n",
              " 'hint': 88,\n",
              " 'rock': 89,\n",
              " 'eating': 90,\n",
              " 'soggy': 91,\n",
              " 'cut': 92,\n",
              " 'middle': 93,\n",
              " 'swallow': 94,\n",
              " 'day': 95,\n",
              " 'dense': 96,\n",
              " 'money': 97,\n",
              " 'tasteless': 98,\n",
              " 'bland': 99,\n",
              " 'strange': 100,\n",
              " 'oven': 101,\n",
              " 'chip': 102,\n",
              " 'delightful': 103,\n",
              " 'perfectly': 104,\n",
              " 'tender': 105,\n",
              " 'macarons': 106,\n",
              " 'balance': 107,\n",
              " 'perfection': 108,\n",
              " 'pretzel': 109,\n",
              " 'salty': 110,\n",
              " 'practically': 111,\n",
              " 'turnover': 112,\n",
              " 'cheesecake': 113,\n",
              " 'indulgence': 114,\n",
              " 'danish': 115,\n",
              " 'bun': 116,\n",
              " 'focaccia': 117,\n",
              " 'crispy': 118,\n",
              " 'delight': 119,\n",
              " 'chocolatey': 120,\n",
              " 'dipping': 121,\n",
              " 'generous': 122,\n",
              " 'burst': 123,\n",
              " 'flavorless': 124,\n",
              " 'disgusting': 125,\n",
              " 'felt': 126,\n",
              " 'doughy': 127,\n",
              " 'going': 128,\n",
              " 'needed': 129,\n",
              " 'charcoal': 130,\n",
              " 'tooth': 131,\n",
              " 'bad': 132,\n",
              " 'flour': 133,\n",
              " 'film': 134,\n",
              " 'weird': 135,\n",
              " 'enjoyable': 136,\n",
              " 'milk': 137,\n",
              " 'small': 138,\n",
              " 'expired': 139,\n",
              " 'bitter': 140,\n",
              " 'texture': 141,\n",
              " 'loved': 142,\n",
              " 'divine': 143,\n",
              " 'wonderful': 144,\n",
              " 'aroma': 145,\n",
              " 'toasted': 146,\n",
              " 'heavenly': 147,\n",
              " 'custard': 148,\n",
              " 'scrumptious': 149,\n",
              " 'lover': 150,\n",
              " 'dream': 151,\n",
              " 'seasoned': 152,\n",
              " 'way': 153,\n",
              " 'melted': 154,\n",
              " 'ripe': 155,\n",
              " 'luxurious': 156,\n",
              " 'fruity': 157,\n",
              " 'goodness': 158,\n",
              " 'luscious': 159,\n",
              " 'straight': 160,\n",
              " 'golden': 161,\n",
              " 'paris': 162,\n",
              " 'throughout': 163,\n",
              " 'sugar': 164,\n",
              " 'breakfast': 165,\n",
              " 'packed': 166,\n",
              " 'center': 167,\n",
              " 'remembered': 168,\n",
              " 'france': 169,\n",
              " 'olive': 170,\n",
              " 'espresso': 171,\n",
              " 'blend': 172,\n",
              " 'spice': 173,\n",
              " 'caramel': 174,\n",
              " 'found': 175,\n",
              " 'hair': 176,\n",
              " 'crisp': 177,\n",
              " 'terrible': 178,\n",
              " 'sand': 179,\n",
              " 'underwhelming': 180,\n",
              " 'got': 181,\n",
              " 'food': 182,\n",
              " 'poisoning': 183,\n",
              " 'never': 184,\n",
              " 'back': 185,\n",
              " 'artificial': 186,\n",
              " 'edge': 187,\n",
              " 'total': 188,\n",
              " 'disappointment': 189,\n",
              " 'salt': 190,\n",
              " 'side': 191,\n",
              " 'dough': 192,\n",
              " 'gallon': 193,\n",
              " 'water': 194,\n",
              " 'mushy': 195,\n",
              " 'unripe': 196,\n",
              " 'sour': 197,\n",
              " 'spoiled': 198,\n",
              " 'curdled': 199,\n",
              " 'thought': 200,\n",
              " 'break': 201,\n",
              " 'tiny': 202,\n",
              " 'tough': 203,\n",
              " 'knife': 204,\n",
              " 'sitting': 205,\n",
              " 'inedible': 206,\n",
              " 'waste': 207,\n",
              " 'sucked': 208,\n",
              " 'moisture': 209,\n",
              " 'could': 210,\n",
              " 'barely': 211,\n",
              " 'week': 212,\n",
              " 'ago': 213,\n",
              " 'overbaked': 214,\n",
              " 'cheap': 215,\n",
              " 'dunk': 216,\n",
              " 'yeast': 217,\n",
              " 'smell': 218,\n",
              " 'glass': 219,\n",
              " 'taste': 220,\n",
              " 'calorie': 221,\n",
              " 'rubber': 222,\n",
              " 'tire': 223,\n",
              " 'low': 224,\n",
              " 'quality': 225,\n",
              " 'almost': 226,\n",
              " 'chipped': 227,\n",
              " 'sugary': 228,\n",
              " 'crumbled': 229,\n",
              " 'soon': 230,\n",
              " 'touched': 231,\n",
              " 'raw': 232}"
            ]
          },
          "metadata": {},
          "execution_count": 47
        }
      ]
    },
    {
      "cell_type": "code",
      "source": [
        "tf.keras.utils.pad_sequences([corpus_tokens[0]], padding='post', maxlen=8)"
      ],
      "metadata": {
        "colab": {
          "base_uri": "https://localhost:8080/"
        },
        "collapsed": true,
        "id": "2qink-HVVd-w",
        "outputId": "9b54c735-3e21-414c-b990-aa853e56ca33"
      },
      "execution_count": null,
      "outputs": [
        {
          "output_type": "execute_result",
          "data": {
            "text/plain": [
              "array([[10, 11, 31, 80,  8,  0,  0,  0]], dtype=int32)"
            ]
          },
          "metadata": {},
          "execution_count": 48
        }
      ]
    },
    {
      "cell_type": "code",
      "source": [
        "token_lengths = [len(t) for t in corpus_tokens]\n",
        "token_lengths = pd.Series(token_lengths)\n",
        "token_lengths.hist(bins=5)"
      ],
      "metadata": {
        "colab": {
          "base_uri": "https://localhost:8080/",
          "height": 447
        },
        "id": "LWi3eFAQWFu8",
        "outputId": "1c3302a6-ccb9-4d3b-d5da-e919b56cdbb3"
      },
      "execution_count": null,
      "outputs": [
        {
          "output_type": "execute_result",
          "data": {
            "text/plain": [
              "<Axes: >"
            ]
          },
          "metadata": {},
          "execution_count": 64
        },
        {
          "output_type": "display_data",
          "data": {
            "text/plain": [
              "<Figure size 640x480 with 1 Axes>"
            ],
            "image/png": "[encoded data removed]"
          },
          "metadata": {}
        }
      ]
    },
    {
      "cell_type": "code",
      "source": [
        "pad_corpus = tf.keras.utils.pad_sequences(corpus_tokens,padding='post',maxlen=8)\n",
        "pad_corpus"
      ],
      "metadata": {
        "colab": {
          "base_uri": "https://localhost:8080/"
        },
        "id": "cbaaU7bAWuDw",
        "outputId": "54addbb4-7669-4446-ea34-0c875b01b009"
      },
      "execution_count": null,
      "outputs": [
        {
          "output_type": "execute_result",
          "data": {
            "text/plain": [
              "array([[ 10,  11,  31, ...,   0,   0,   0],\n",
              "       [ 22,   4,  81, ...,   0,   0,   0],\n",
              "       [142,  18,  19, ...,  33,  53,   0],\n",
              "       ...,\n",
              "       [ 15,   1,  27, ...,   0,   0,   0],\n",
              "       [ 16,   1,   3, ..., 139,  64,   0],\n",
              "       [  6,  29, 140, ...,   0,   0,   0]], dtype=int32)"
            ]
          },
          "metadata": {},
          "execution_count": 68
        }
      ]
    },
    {
      "cell_type": "code",
      "source": [
        "inputs = tf.keras.layers.Input(8,)\n",
        "embeddings = tf.keras.layers.Embedding(\n",
        "                                            input_dim = len(vocabulary) + 1,\n",
        "                                            output_dim = 200\n",
        ")\n",
        "lstm_layer_01 = tf.keras.layers.Bidirectional(tf.keras.layers.LSTM(128,return_sequences=True))\n",
        "lstm_layer_02 = tf.keras.layers.Bidirectional(tf.keras.layers.LSTM(64,return_sequences=True))\n",
        "lstm_layer_03 = tf.keras.layers.Bidirectional(tf.keras.layers.LSTM(64))\n",
        "dense_layer_01 = tf.keras.layers.Dense(128,activation='relu')\n",
        "dense_layer_02 = tf.keras.layers.Dense(128,activation='relu')\n",
        "output_layer = tf.keras.layers.Dense(1, activation='sigmoid')"
      ],
      "metadata": {
        "id": "Cs4BDT9BYpW9"
      },
      "execution_count": null,
      "outputs": []
    },
    {
      "cell_type": "code",
      "source": [
        "x = embeddings(inputs)\n",
        "x = lstm_layer_01(x)\n",
        "x = lstm_layer_02(x)\n",
        "x = lstm_layer_03(x)\n",
        "x = dense_layer_01(x)\n",
        "x = dense_layer_02(x)\n",
        "outputs = output_layer(x)\n",
        "\n",
        "model = tf.keras.models.Model(\n",
        "                              inputs,\n",
        "                              outputs\n",
        "                              )\n",
        "model.summary()"
      ],
      "metadata": {
        "colab": {
          "base_uri": "https://localhost:8080/"
        },
        "id": "id-KHtaLeJ4d",
        "outputId": "6df362d5-66c3-441a-fea1-a721357e16c8"
      },
      "execution_count": null,
      "outputs": [
        {
          "output_type": "stream",
          "name": "stdout",
          "text": [
            "Model: \"model\"\n",
            "_________________________________________________________________\n",
            " Layer (type)                Output Shape              Param #   \n",
            "=================================================================\n",
            " input_9 (InputLayer)        [(None, 8)]               0         \n",
            "                                                                 \n",
            " embedding_8 (Embedding)     (None, 8, 200)            46600     \n",
            "                                                                 \n",
            " bidirectional_12 (Bidirect  (None, 8, 256)            336896    \n",
            " ional)                                                          \n",
            "                                                                 \n",
            " bidirectional_13 (Bidirect  (None, 8, 128)            164352    \n",
            " ional)                                                          \n",
            "                                                                 \n",
            " bidirectional_14 (Bidirect  (None, 128)               98816     \n",
            " ional)                                                          \n",
            "                                                                 \n",
            " dense_7 (Dense)             (None, 128)               16512     \n",
            "                                                                 \n",
            " dense_8 (Dense)             (None, 128)               16512     \n",
            "                                                                 \n",
            " dense_9 (Dense)             (None, 1)                 129       \n",
            "                                                                 \n",
            "=================================================================\n",
            "Total params: 679817 (2.59 MB)\n",
            "Trainable params: 679817 (2.59 MB)\n",
            "Non-trainable params: 0 (0.00 Byte)\n",
            "_________________________________________________________________\n"
          ]
        }
      ]
    },
    {
      "cell_type": "code",
      "source": [
        "model.compile(\n",
        "              loss='binary_crossentropy',\n",
        "              optimizer='adam',\n",
        "              metrics=['accuracy']\n",
        "              )\n",
        "model.fit(\n",
        "          pad_corpus,\n",
        "          np.array(Y),\n",
        "          batch_size = 12,\n",
        "          epochs = 100\n",
        "          )"
      ],
      "metadata": {
        "colab": {
          "base_uri": "https://localhost:8080/"
        },
        "id": "anSZxxMXrsgW",
        "outputId": "35550614-8042-4de4-92d3-241e7e570093"
      },
      "execution_count": null,
      "outputs": [
        {
          "output_type": "stream",
          "name": "stdout",
          "text": [
            "Epoch 1/100\n",
            "15/15 [==============================] - 16s 96ms/step - loss: 0.6793 - accuracy: 0.5455\n",
            "Epoch 2/100\n",
            "15/15 [==============================] - 1s 94ms/step - loss: 0.3327 - accuracy: 0.9261\n",
            "Epoch 3/100\n",
            "15/15 [==============================] - 1s 64ms/step - loss: 0.0443 - accuracy: 0.9886\n",
            "Epoch 4/100\n",
            "15/15 [==============================] - 1s 47ms/step - loss: 0.0029 - accuracy: 1.0000\n",
            "Epoch 5/100\n",
            "15/15 [==============================] - 1s 51ms/step - loss: 4.4816e-04 - accuracy: 1.0000\n",
            "Epoch 6/100\n",
            "15/15 [==============================] - 1s 50ms/step - loss: 1.3223e-04 - accuracy: 1.0000\n",
            "Epoch 7/100\n",
            "15/15 [==============================] - 1s 49ms/step - loss: 5.8170e-05 - accuracy: 1.0000\n",
            "Epoch 8/100\n",
            "15/15 [==============================] - 1s 46ms/step - loss: 3.4861e-05 - accuracy: 1.0000\n",
            "Epoch 9/100\n",
            "15/15 [==============================] - 1s 48ms/step - loss: 2.2533e-05 - accuracy: 1.0000\n",
            "Epoch 10/100\n",
            "15/15 [==============================] - 1s 50ms/step - loss: 1.6197e-05 - accuracy: 1.0000\n",
            "Epoch 11/100\n",
            "15/15 [==============================] - 1s 46ms/step - loss: 1.1979e-05 - accuracy: 1.0000\n",
            "Epoch 12/100\n",
            "15/15 [==============================] - 1s 50ms/step - loss: 9.0541e-06 - accuracy: 1.0000\n",
            "Epoch 13/100\n",
            "15/15 [==============================] - 1s 49ms/step - loss: 7.2464e-06 - accuracy: 1.0000\n",
            "Epoch 14/100\n",
            "15/15 [==============================] - 1s 48ms/step - loss: 5.8494e-06 - accuracy: 1.0000\n",
            "Epoch 15/100\n",
            "15/15 [==============================] - 1s 92ms/step - loss: 4.8615e-06 - accuracy: 1.0000\n",
            "Epoch 16/100\n",
            "15/15 [==============================] - 1s 93ms/step - loss: 4.0955e-06 - accuracy: 1.0000\n",
            "Epoch 17/100\n",
            "15/15 [==============================] - 1s 95ms/step - loss: 3.4586e-06 - accuracy: 1.0000\n",
            "Epoch 18/100\n",
            "15/15 [==============================] - 1s 95ms/step - loss: 2.9976e-06 - accuracy: 1.0000\n",
            "Epoch 19/100\n",
            "15/15 [==============================] - 1s 56ms/step - loss: 2.6133e-06 - accuracy: 1.0000\n",
            "Epoch 20/100\n",
            "15/15 [==============================] - 1s 49ms/step - loss: 2.3021e-06 - accuracy: 1.0000\n",
            "Epoch 21/100\n",
            "15/15 [==============================] - 1s 51ms/step - loss: 2.0441e-06 - accuracy: 1.0000\n",
            "Epoch 22/100\n",
            "15/15 [==============================] - 1s 49ms/step - loss: 1.8266e-06 - accuracy: 1.0000\n",
            "Epoch 23/100\n",
            "15/15 [==============================] - 1s 50ms/step - loss: 1.6351e-06 - accuracy: 1.0000\n",
            "Epoch 24/100\n",
            "15/15 [==============================] - 1s 49ms/step - loss: 1.4896e-06 - accuracy: 1.0000\n",
            "Epoch 25/100\n",
            "15/15 [==============================] - 1s 50ms/step - loss: 1.3465e-06 - accuracy: 1.0000\n",
            "Epoch 26/100\n",
            "15/15 [==============================] - 1s 47ms/step - loss: 1.2338e-06 - accuracy: 1.0000\n",
            "Epoch 27/100\n",
            "15/15 [==============================] - 1s 48ms/step - loss: 1.1282e-06 - accuracy: 1.0000\n",
            "Epoch 28/100\n",
            "15/15 [==============================] - 1s 50ms/step - loss: 1.0388e-06 - accuracy: 1.0000\n",
            "Epoch 29/100\n",
            "15/15 [==============================] - 1s 53ms/step - loss: 9.5840e-07 - accuracy: 1.0000\n",
            "Epoch 30/100\n",
            "15/15 [==============================] - 1s 48ms/step - loss: 8.8793e-07 - accuracy: 1.0000\n",
            "Epoch 31/100\n",
            "15/15 [==============================] - 1s 49ms/step - loss: 8.2516e-07 - accuracy: 1.0000\n",
            "Epoch 32/100\n",
            "15/15 [==============================] - 1s 67ms/step - loss: 7.7116e-07 - accuracy: 1.0000\n",
            "Epoch 33/100\n",
            "15/15 [==============================] - 1s 95ms/step - loss: 7.1780e-07 - accuracy: 1.0000\n",
            "Epoch 34/100\n",
            "15/15 [==============================] - 1s 95ms/step - loss: 6.7034e-07 - accuracy: 1.0000\n",
            "Epoch 35/100\n",
            "15/15 [==============================] - 1s 78ms/step - loss: 6.2965e-07 - accuracy: 1.0000\n",
            "Epoch 36/100\n",
            "15/15 [==============================] - 1s 50ms/step - loss: 5.9145e-07 - accuracy: 1.0000\n",
            "Epoch 37/100\n",
            "15/15 [==============================] - 1s 48ms/step - loss: 5.5595e-07 - accuracy: 1.0000\n",
            "Epoch 38/100\n",
            "15/15 [==============================] - 1s 46ms/step - loss: 5.2356e-07 - accuracy: 1.0000\n",
            "Epoch 39/100\n",
            "15/15 [==============================] - 1s 51ms/step - loss: 4.9492e-07 - accuracy: 1.0000\n",
            "Epoch 40/100\n",
            "15/15 [==============================] - 1s 51ms/step - loss: 4.6779e-07 - accuracy: 1.0000\n",
            "Epoch 41/100\n",
            "15/15 [==============================] - 1s 49ms/step - loss: 4.4258e-07 - accuracy: 1.0000\n",
            "Epoch 42/100\n",
            "15/15 [==============================] - 1s 48ms/step - loss: 4.2042e-07 - accuracy: 1.0000\n",
            "Epoch 43/100\n",
            "15/15 [==============================] - 1s 50ms/step - loss: 3.9903e-07 - accuracy: 1.0000\n",
            "Epoch 44/100\n",
            "15/15 [==============================] - 1s 49ms/step - loss: 3.7936e-07 - accuracy: 1.0000\n",
            "Epoch 45/100\n",
            "15/15 [==============================] - 1s 50ms/step - loss: 3.6068e-07 - accuracy: 1.0000\n",
            "Epoch 46/100\n",
            "15/15 [==============================] - 1s 48ms/step - loss: 3.4392e-07 - accuracy: 1.0000\n",
            "Epoch 47/100\n",
            "15/15 [==============================] - 1s 51ms/step - loss: 3.2808e-07 - accuracy: 1.0000\n",
            "Epoch 48/100\n",
            "15/15 [==============================] - 1s 48ms/step - loss: 3.1303e-07 - accuracy: 1.0000\n",
            "Epoch 49/100\n",
            "15/15 [==============================] - 1s 92ms/step - loss: 2.9937e-07 - accuracy: 1.0000\n",
            "Epoch 50/100\n",
            "15/15 [==============================] - 1s 95ms/step - loss: 2.8590e-07 - accuracy: 1.0000\n",
            "Epoch 51/100\n",
            "15/15 [==============================] - 1s 95ms/step - loss: 2.7391e-07 - accuracy: 1.0000\n",
            "Epoch 52/100\n",
            "15/15 [==============================] - 1s 49ms/step - loss: 2.6188e-07 - accuracy: 1.0000\n",
            "Epoch 53/100\n",
            "15/15 [==============================] - 1s 48ms/step - loss: 2.5132e-07 - accuracy: 1.0000\n",
            "Epoch 54/100\n",
            "15/15 [==============================] - 1s 47ms/step - loss: 2.4084e-07 - accuracy: 1.0000\n",
            "Epoch 55/100\n",
            "15/15 [==============================] - 1s 49ms/step - loss: 2.3157e-07 - accuracy: 1.0000\n",
            "Epoch 56/100\n",
            "15/15 [==============================] - 1s 51ms/step - loss: 2.2181e-07 - accuracy: 1.0000\n",
            "Epoch 57/100\n",
            "15/15 [==============================] - 1s 50ms/step - loss: 2.1327e-07 - accuracy: 1.0000\n",
            "Epoch 58/100\n",
            "15/15 [==============================] - 1s 48ms/step - loss: 2.0487e-07 - accuracy: 1.0000\n",
            "Epoch 59/100\n",
            "15/15 [==============================] - 1s 50ms/step - loss: 1.9702e-07 - accuracy: 1.0000\n",
            "Epoch 60/100\n",
            "15/15 [==============================] - 1s 53ms/step - loss: 1.8995e-07 - accuracy: 1.0000\n",
            "Epoch 61/100\n",
            "15/15 [==============================] - 1s 51ms/step - loss: 1.8256e-07 - accuracy: 1.0000\n",
            "Epoch 62/100\n",
            "15/15 [==============================] - 1s 47ms/step - loss: 1.7621e-07 - accuracy: 1.0000\n",
            "Epoch 63/100\n",
            "15/15 [==============================] - 1s 51ms/step - loss: 1.6992e-07 - accuracy: 1.0000\n",
            "Epoch 64/100\n",
            "15/15 [==============================] - 1s 50ms/step - loss: 1.6368e-07 - accuracy: 1.0000\n",
            "Epoch 65/100\n",
            "15/15 [==============================] - 1s 82ms/step - loss: 1.5778e-07 - accuracy: 1.0000\n",
            "Epoch 66/100\n",
            "15/15 [==============================] - 1s 92ms/step - loss: 1.5269e-07 - accuracy: 1.0000\n",
            "Epoch 67/100\n",
            "15/15 [==============================] - 1s 97ms/step - loss: 1.4738e-07 - accuracy: 1.0000\n",
            "Epoch 68/100\n",
            "15/15 [==============================] - 1s 59ms/step - loss: 1.4259e-07 - accuracy: 1.0000\n",
            "Epoch 69/100\n",
            "15/15 [==============================] - 1s 46ms/step - loss: 1.3803e-07 - accuracy: 1.0000\n",
            "Epoch 70/100\n",
            "15/15 [==============================] - 1s 48ms/step - loss: 1.3381e-07 - accuracy: 1.0000\n",
            "Epoch 71/100\n",
            "15/15 [==============================] - 1s 52ms/step - loss: 1.2965e-07 - accuracy: 1.0000\n",
            "Epoch 72/100\n",
            "15/15 [==============================] - 1s 49ms/step - loss: 1.2561e-07 - accuracy: 1.0000\n",
            "Epoch 73/100\n",
            "15/15 [==============================] - 1s 46ms/step - loss: 1.2194e-07 - accuracy: 1.0000\n",
            "Epoch 74/100\n",
            "15/15 [==============================] - 1s 49ms/step - loss: 1.1780e-07 - accuracy: 1.0000\n",
            "Epoch 75/100\n",
            "15/15 [==============================] - 1s 49ms/step - loss: 1.1410e-07 - accuracy: 1.0000\n",
            "Epoch 76/100\n",
            "15/15 [==============================] - 1s 48ms/step - loss: 1.1063e-07 - accuracy: 1.0000\n",
            "Epoch 77/100\n",
            "15/15 [==============================] - 1s 47ms/step - loss: 1.0696e-07 - accuracy: 1.0000\n",
            "Epoch 78/100\n",
            "15/15 [==============================] - 1s 48ms/step - loss: 1.0363e-07 - accuracy: 1.0000\n",
            "Epoch 79/100\n",
            "15/15 [==============================] - 1s 49ms/step - loss: 1.0058e-07 - accuracy: 1.0000\n",
            "Epoch 80/100\n",
            "15/15 [==============================] - 1s 51ms/step - loss: 9.7601e-08 - accuracy: 1.0000\n",
            "Epoch 81/100\n",
            "15/15 [==============================] - 1s 55ms/step - loss: 9.4725e-08 - accuracy: 1.0000\n",
            "Epoch 82/100\n",
            "15/15 [==============================] - 1s 94ms/step - loss: 9.2058e-08 - accuracy: 1.0000\n",
            "Epoch 83/100\n",
            "15/15 [==============================] - 1s 95ms/step - loss: 8.9595e-08 - accuracy: 1.0000\n",
            "Epoch 84/100\n",
            "15/15 [==============================] - 1s 77ms/step - loss: 8.6974e-08 - accuracy: 1.0000\n",
            "Epoch 85/100\n",
            "15/15 [==============================] - 1s 48ms/step - loss: 8.4592e-08 - accuracy: 1.0000\n",
            "Epoch 86/100\n",
            "15/15 [==============================] - 1s 49ms/step - loss: 8.2341e-08 - accuracy: 1.0000\n",
            "Epoch 87/100\n",
            "15/15 [==============================] - 1s 51ms/step - loss: 8.0189e-08 - accuracy: 1.0000\n",
            "Epoch 88/100\n",
            "15/15 [==============================] - 1s 50ms/step - loss: 7.8234e-08 - accuracy: 1.0000\n",
            "Epoch 89/100\n",
            "15/15 [==============================] - 1s 47ms/step - loss: 7.6227e-08 - accuracy: 1.0000\n",
            "Epoch 90/100\n",
            "15/15 [==============================] - 1s 53ms/step - loss: 7.4221e-08 - accuracy: 1.0000\n",
            "Epoch 91/100\n",
            "15/15 [==============================] - 1s 51ms/step - loss: 7.2400e-08 - accuracy: 1.0000\n",
            "Epoch 92/100\n",
            "15/15 [==============================] - 1s 47ms/step - loss: 7.0648e-08 - accuracy: 1.0000\n",
            "Epoch 93/100\n",
            "15/15 [==============================] - 1s 46ms/step - loss: 6.8902e-08 - accuracy: 1.0000\n",
            "Epoch 94/100\n",
            "15/15 [==============================] - 1s 52ms/step - loss: 6.7245e-08 - accuracy: 1.0000\n",
            "Epoch 95/100\n",
            "15/15 [==============================] - 1s 50ms/step - loss: 6.5665e-08 - accuracy: 1.0000\n",
            "Epoch 96/100\n",
            "15/15 [==============================] - 1s 48ms/step - loss: 6.4135e-08 - accuracy: 1.0000\n",
            "Epoch 97/100\n",
            "15/15 [==============================] - 1s 54ms/step - loss: 6.2552e-08 - accuracy: 1.0000\n",
            "Epoch 98/100\n",
            "15/15 [==============================] - 1s 98ms/step - loss: 6.1105e-08 - accuracy: 1.0000\n",
            "Epoch 99/100\n",
            "15/15 [==============================] - 1s 100ms/step - loss: 5.9661e-08 - accuracy: 1.0000\n",
            "Epoch 100/100\n",
            "15/15 [==============================] - 1s 71ms/step - loss: 5.8241e-08 - accuracy: 1.0000\n"
          ]
        },
        {
          "output_type": "execute_result",
          "data": {
            "text/plain": [
              "<keras.src.callbacks.History at 0x7ee878b418a0>"
            ]
          },
          "metadata": {},
          "execution_count": 82
        }
      ]
    },
    {
      "cell_type": "code",
      "source": [
        "n_sen = \"The focaccia was burnt and tasted like charcoal.\"\n",
        "p_sen = \"The focaccia was fresh and flavorful, with a crispy crust.\""
      ],
      "metadata": {
        "id": "qH3Jt4heBUYm"
      },
      "execution_count": null,
      "outputs": []
    },
    {
      "cell_type": "code",
      "source": [
        "def predict_lstm(sen):\n",
        "    sen_tokens = tokenizer.texts_to_sequences([sen])\n",
        "    sen_padded = tf.keras.utils.pad_sequences(\n",
        "                                              sen_tokens,\n",
        "                                              padding='post',\n",
        "                                              maxlen=8\n",
        "                                              )\n",
        "    p = float(model.predict(sen_padded).squeeze())\n",
        "    p = \"Negative\" if p < 0.5 else \"Positive\"\n",
        "    return p"
      ],
      "metadata": {
        "id": "SE220BhUBWqe"
      },
      "execution_count": null,
      "outputs": []
    },
    {
      "cell_type": "code",
      "source": [
        "predict_lstm(p_sen)"
      ],
      "metadata": {
        "colab": {
          "base_uri": "https://localhost:8080/",
          "height": 52
        },
        "id": "bnYCSbEIBauh",
        "outputId": "4883c22c-f4bd-4df9-92ca-182e97ad7b8d"
      },
      "execution_count": null,
      "outputs": [
        {
          "output_type": "stream",
          "name": "stdout",
          "text": [
            "1/1 [==============================] - 2s 2s/step\n"
          ]
        },
        {
          "output_type": "execute_result",
          "data": {
            "text/plain": [
              "'Positive'"
            ],
            "application/vnd.google.colaboratory.intrinsic+json": {
              "type": "string"
            }
          },
          "metadata": {},
          "execution_count": 85
        }
      ]
    },
    {
      "cell_type": "code",
      "source": [
        "pred = predict_lstm(corpus)\n",
        "pred"
      ],
      "metadata": {
        "colab": {
          "base_uri": "https://localhost:8080/",
          "height": 52
        },
        "id": "FkFgzsQaBdW_",
        "outputId": "d8529186-f20f-4437-c631-3b858d4c87fe"
      },
      "execution_count": null,
      "outputs": [
        {
          "output_type": "stream",
          "name": "stdout",
          "text": [
            "1/1 [==============================] - 0s 124ms/step\n"
          ]
        },
        {
          "output_type": "execute_result",
          "data": {
            "text/plain": [
              "'Negative'"
            ],
            "application/vnd.google.colaboratory.intrinsic+json": {
              "type": "string"
            }
          },
          "metadata": {},
          "execution_count": 100
        }
      ]
    },
    {
      "cell_type": "code",
      "source": [],
      "metadata": {
        "id": "yCTXh3UuBrc8"
      },
      "execution_count": null,
      "outputs": []
    }
  ]
}